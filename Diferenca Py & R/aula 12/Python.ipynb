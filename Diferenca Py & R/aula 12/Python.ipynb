{
  "nbformat": 4,
  "nbformat_minor": 0,
  "metadata": {
    "colab": {
      "provenance": []
    },
    "kernelspec": {
      "name": "python3",
      "display_name": "Python 3"
    },
    "language_info": {
      "name": "python"
    }
  },
  "cells": [
    {
      "cell_type": "code",
      "execution_count": null,
      "metadata": {
        "id": "HaxFddGO4V3h"
      },
      "outputs": [],
      "source": [
        "def soma (a,b):\n",
        "    return a + b\n",
        "\n",
        "print(soma(1,2))\n",
        "\n",
        "def subtracao (a,b):\n",
        "    return a - b\n",
        "\n",
        "print(subtracao(1,2))\n",
        "\n",
        "def multiplicacao (a,b):\n",
        "    return a * b\n",
        "\n",
        "print(multiplicacao(1,2))\n",
        "\n",
        "def divisao (a,b):\n",
        "    return a / b\n",
        "\n",
        "print(divisao(1,2))"
      ]
    },
    {
      "cell_type": "code",
      "source": [
        "#implemente uma função que verifica se um numero é par\n",
        "\n",
        "n = int(input(\"Digite um numero: \"))\n",
        "\n",
        "def verifica_par(n):\n",
        "    if numero % 2 == 0:\n",
        "        return True\n",
        "    else:\n",
        "        return False\n",
        "\n",
        "if verifica_par(n):\n",
        "    print(\"O numero é par\")\n",
        "else:\n",
        "    print(\"O numero é impar\")\n"
      ],
      "metadata": {
        "colab": {
          "base_uri": "https://localhost:8080/"
        },
        "id": "Vk_HM6bz5Sd2",
        "outputId": "0eea6b3c-a55d-469d-a980-4415bdbe9a32"
      },
      "execution_count": 2,
      "outputs": [
        {
          "output_type": "stream",
          "name": "stdout",
          "text": [
            "Digite um numero: 7\n",
            "O numero é impar\n"
          ]
        }
      ]
    },
    {
      "cell_type": "code",
      "source": [
        "#implemente uma função onde retornee uma media de uma lista de nuemros\n",
        "\n",
        "def media(lista):\n",
        "  return sum(lista) / len(lista)\n",
        "\n",
        "print(media([10,10,5,5]))"
      ],
      "metadata": {
        "colab": {
          "base_uri": "https://localhost:8080/"
        },
        "id": "x0zE40vy8dwT",
        "outputId": "5d73205d-1db5-460d-f5c1-93889061c62e"
      },
      "execution_count": 4,
      "outputs": [
        {
          "output_type": "stream",
          "name": "stdout",
          "text": [
            "7.5\n"
          ]
        }
      ]
    },
    {
      "cell_type": "code",
      "source": [
        "#implemente uma função que retone a soma de dois elementos em uma matriz\n",
        "\n",
        "def soma_matriz(matriz):\n",
        "  return sum(sum(linha) for linha in matriz)\n",
        "\n",
        "matriz = [[10,20,30],[40,1,2],[3,4,0]]\n",
        "print(soma_matriz(matriz))"
      ],
      "metadata": {
        "colab": {
          "base_uri": "https://localhost:8080/"
        },
        "id": "T-EVR21__BYD",
        "outputId": "ff73d183-32a9-433d-e2cc-4cad6c2c32f8"
      },
      "execution_count": 7,
      "outputs": [
        {
          "output_type": "stream",
          "name": "stdout",
          "text": [
            "110\n"
          ]
        }
      ]
    },
    {
      "cell_type": "code",
      "source": [
        "# implemente uma função que verifica se uma string é um palindromo\n",
        "\n",
        "def palindromo(string):\n",
        "  return string == string[::-1]\n",
        "\n",
        "print(palindromo(\"ixi\"))\n",
        "print(palindromo(\"oi\"))"
      ],
      "metadata": {
        "colab": {
          "base_uri": "https://localhost:8080/"
        },
        "id": "pEpizNs3CAfk",
        "outputId": "82d3a502-0311-4d67-ca29-ac895a2b95da"
      },
      "execution_count": 12,
      "outputs": [
        {
          "output_type": "stream",
          "name": "stdout",
          "text": [
            "True\n",
            "False\n"
          ]
        }
      ]
    },
    {
      "cell_type": "code",
      "source": [
        "#implemente uma função que retorna a quantidade de vogais em uma string\n",
        "\n",
        "def contador(string):\n",
        "  vogais = \"aeiou\"\n",
        "  return sum(1 for char in string if char.lower() in vogais)\n",
        "\n",
        "print(contador(\"abcdario\"))"
      ],
      "metadata": {
        "colab": {
          "base_uri": "https://localhost:8080/"
        },
        "id": "cdJwk1ggIsAR",
        "outputId": "df098a15-eb3c-49b6-a1e1-2baa7b1ca802"
      },
      "execution_count": 18,
      "outputs": [
        {
          "output_type": "stream",
          "name": "stdout",
          "text": [
            "4\n"
          ]
        }
      ]
    },
    {
      "cell_type": "code",
      "source": [
        "# implemente uma função que retorne o produto de uma matriz\n",
        "\n",
        "def produto(matriz):\n",
        "  produto = 1\n",
        "  for linha in matriz:\n",
        "    for numero in linha:\n",
        "      produto *= numero\n",
        "  return produto"
      ],
      "metadata": {
        "id": "paJX3-7UNr-a"
      },
      "execution_count": null,
      "outputs": []
    },
    {
      "cell_type": "code",
      "source": [
        "# implemente uma função que retorne o produto de duas matrizes\n",
        "\n",
        "def produto_matrizes(matriz1, matriz2):\n",
        "  resultado = [[sum(a*b for a,b in zip(linha_a, coluna_b)) for coluna_b in zip(*matriz2)] for linha_a in matriz1]\n",
        "  return(resultado)\n",
        "\n",
        "matriz1 = [[1,2],[3,4]]\n",
        "matriz2 = [[5,6],[7,8]]\n",
        "print(produto_matrizes(matriz1, matriz2))"
      ],
      "metadata": {
        "colab": {
          "base_uri": "https://localhost:8080/"
        },
        "id": "TYVbXcOzXlgg",
        "outputId": "65166e87-c35f-4037-e9c9-8210bd0ec2e8"
      },
      "execution_count": 28,
      "outputs": [
        {
          "output_type": "stream",
          "name": "stdout",
          "text": [
            "[[19, 22], [43, 50]]\n"
          ]
        }
      ]
    },
    {
      "cell_type": "code",
      "source": [
        "# Recursividade"
      ],
      "metadata": {
        "id": "XiIK-zDaZyoO"
      },
      "execution_count": null,
      "outputs": []
    },
    {
      "cell_type": "code",
      "source": [
        "#implemente uma função recursiva que calcule o fatorial de um numero\n",
        "\n",
        "def fatorial(n):\n",
        "  if n == 0:\n",
        "    return 1\n",
        "  else:\n",
        "    return n * fatorial(n-1)\n",
        "\n",
        "print(fatorial(6))"
      ],
      "metadata": {
        "colab": {
          "base_uri": "https://localhost:8080/"
        },
        "id": "RfxS_AZ0cc6E",
        "outputId": "6d7d1294-a95f-4b32-b231-6e61d1681263"
      },
      "execution_count": 36,
      "outputs": [
        {
          "output_type": "stream",
          "name": "stdout",
          "text": [
            "720\n"
          ]
        }
      ]
    },
    {
      "cell_type": "code",
      "source": [
        "#crie uma função recursiva que retorne a soma deos primeiros nummeros naturais\n",
        "\n",
        "def soma_naturais(n):\n",
        "  if n == 0:\n",
        "    return 0\n",
        "  else:\n",
        "    return n + soma_naturais(n-1)\n",
        "\n",
        "print(soma_naturais(5))"
      ],
      "metadata": {
        "colab": {
          "base_uri": "https://localhost:8080/"
        },
        "id": "0u9zk4JOgtOs",
        "outputId": "6be290fb-ad93-426f-c2dc-0fa7d4659041"
      },
      "execution_count": 38,
      "outputs": [
        {
          "output_type": "stream",
          "name": "stdout",
          "text": [
            "15\n"
          ]
        }
      ]
    }
  ]
}