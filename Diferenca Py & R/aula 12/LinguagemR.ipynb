{
  "nbformat": 4,
  "nbformat_minor": 0,
  "metadata": {
    "colab": {
      "provenance": []
    },
    "kernelspec": {
      "name": "ir",
      "display_name": "R"
    },
    "language_info": {
      "name": "R"
    }
  },
  "cells": [
    {
      "cell_type": "code",
      "execution_count": 2,
      "metadata": {
        "colab": {
          "base_uri": "https://localhost:8080/"
        },
        "id": "NlZR_hbV42qp",
        "outputId": "fc0e2d51-9e76-40d8-e99b-dc3d7c940909"
      },
      "outputs": [
        {
          "output_type": "stream",
          "name": "stdout",
          "text": [
            "[1] 8\n"
          ]
        }
      ],
      "source": [
        "soma <- function(a,b){\n",
        "    return(a+b)\n",
        "}\n",
        "\n",
        "print(soma(3,5))"
      ]
    },
    {
      "cell_type": "code",
      "source": [
        "# verifique se um nuemro é par\n",
        "n <- 10\n",
        "\n",
        "x <- function(n){\n",
        "  return(n%%2 == 0)\n",
        "}\n",
        "\n",
        "print(x(n))"
      ],
      "metadata": {
        "colab": {
          "base_uri": "https://localhost:8080/"
        },
        "id": "M9Hb-SlK5ybn",
        "outputId": "8887f60a-06f3-4d0c-f218-65e1fd7fe8cb"
      },
      "execution_count": 11,
      "outputs": [
        {
          "output_type": "stream",
          "name": "stdout",
          "text": [
            "[1] TRUE\n"
          ]
        }
      ]
    },
    {
      "cell_type": "code",
      "source": [
        "#fazendo media\n",
        "\n",
        "media <- function(x){\n",
        "  return(mean(x))\n",
        "}\n",
        "\n",
        "print(media(c(10,10,5,5)))"
      ],
      "metadata": {
        "colab": {
          "base_uri": "https://localhost:8080/"
        },
        "id": "1-h0vYUc9QLG",
        "outputId": "2a938762-3f38-46de-da0e-2fbe0f175086"
      },
      "execution_count": 15,
      "outputs": [
        {
          "output_type": "stream",
          "name": "stdout",
          "text": [
            "[1] 7.5\n"
          ]
        }
      ]
    },
    {
      "cell_type": "code",
      "source": [
        "# soma de matriz\n",
        "\n",
        "soma_matriz <- function(matriz){\n",
        "  return(sum(matriz))\n",
        "}\n",
        "\n",
        "matriz <- matrix(1:9, nrow = 3, ncol = 3)\n",
        "\n",
        "print(soma_matriz(matriz))"
      ],
      "metadata": {
        "colab": {
          "base_uri": "https://localhost:8080/"
        },
        "id": "7se8qg7d_3uF",
        "outputId": "7b4b9752-e0bc-48fc-ded0-781c08f6dfa3"
      },
      "execution_count": 21,
      "outputs": [
        {
          "output_type": "stream",
          "name": "stdout",
          "text": [
            "[1] 45\n"
          ]
        }
      ]
    },
    {
      "cell_type": "code",
      "source": [
        "# implemente uma função que verifica se uma string é um palindromo\n",
        "\n",
        "palindromo <- function(txt){\n",
        "  return(txt == paste(rev(strsplit(txt, NULL)[[1]]),collapse = \"\"))\n",
        "}\n",
        "\n",
        "print(palindromo(\"oi\"))\n"
      ],
      "metadata": {
        "colab": {
          "base_uri": "https://localhost:8080/"
        },
        "id": "7XZuw3H6DdQ0",
        "outputId": "cbb8bd90-d6cc-4af4-b2cd-4c067572963e"
      },
      "execution_count": 33,
      "outputs": [
        {
          "output_type": "stream",
          "name": "stdout",
          "text": [
            "[1] FALSE\n"
          ]
        }
      ]
    },
    {
      "cell_type": "code",
      "source": [
        "#implemente uma função que retorna a quantidade de vogais em uma string\n",
        "\n",
        "conta_vogais <- function(string){\n",
        "  vogais <- c(\"a\", \"e\", \"i\", \"o\", \"u\")\n",
        "  return(sum(tolower(strsplit(string, NULL)[[1]]) %in% vogais))\n",
        "}\n",
        "\n",
        "print(conta_vogais(\"iii\"))"
      ],
      "metadata": {
        "colab": {
          "base_uri": "https://localhost:8080/"
        },
        "id": "v3iE4_uxKOL_",
        "outputId": "72a78fda-4324-471a-b7f4-61eeb0d79394"
      },
      "execution_count": 36,
      "outputs": [
        {
          "output_type": "stream",
          "name": "stdout",
          "text": [
            "[1] 3\n"
          ]
        }
      ]
    },
    {
      "cell_type": "code",
      "source": [
        "# implemente uma função que retorne o produto de duas matrizes\n",
        "\n",
        "produto_matrizes <- function(matriz1, matriz2){\n",
        "  return(matriz1 %*% matriz2)\n",
        "}\n",
        "\n",
        "matriz1 <- matrix(c(1,2,3,4), nrow = 2, ncol = 2)\n",
        "matriz2 <-  matrix(c(5,6,7,8), nrow = 2, ncol = 2)\n",
        "\n",
        "print(produto_matrizes(matriz1, matriz2))\n"
      ],
      "metadata": {
        "colab": {
          "base_uri": "https://localhost:8080/"
        },
        "id": "gasMY-CkaZCv",
        "outputId": "40a6e24c-9e3b-43f0-fa5b-4c5d993f1c17"
      },
      "execution_count": 41,
      "outputs": [
        {
          "output_type": "stream",
          "name": "stdout",
          "text": [
            "     [,1] [,2]\n",
            "[1,]   23   31\n",
            "[2,]   34   46\n"
          ]
        }
      ]
    },
    {
      "cell_type": "code",
      "source": [
        "fatorial <- function(n){\n",
        "  if (n == 0){\n",
        "    return(1)\n",
        "  }else{\n",
        "    return(n * fatorial(n - 1))\n",
        "  }\n",
        "}\n",
        "\n",
        "print(fatorial(6))"
      ],
      "metadata": {
        "colab": {
          "base_uri": "https://localhost:8080/"
        },
        "id": "krlBgFWbdwMl",
        "outputId": "71f73380-12a8-4bf4-b606-e97181ee76ca"
      },
      "execution_count": 44,
      "outputs": [
        {
          "output_type": "stream",
          "name": "stdout",
          "text": [
            "[1] 720\n"
          ]
        }
      ]
    },
    {
      "cell_type": "code",
      "source": [
        "soma_n <- function(n){\n",
        "  if (n == 0){\n",
        "    return(0)\n",
        "  }else{\n",
        "    return(n + soma_n(n - 1))\n",
        "  }\n",
        "}\n",
        "\n",
        "print(soma_n(5))"
      ],
      "metadata": {
        "colab": {
          "base_uri": "https://localhost:8080/"
        },
        "id": "HybML1ELg-Tp",
        "outputId": "a0146c96-1892-42df-adb0-d51be39dc67c"
      },
      "execution_count": 48,
      "outputs": [
        {
          "output_type": "stream",
          "name": "stdout",
          "text": [
            "[1] 15\n"
          ]
        }
      ]
    }
  ]
}