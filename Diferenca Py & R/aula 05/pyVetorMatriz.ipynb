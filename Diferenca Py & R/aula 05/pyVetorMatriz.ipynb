{
  "cells": [
    {
      "cell_type": "code",
      "source": [
        "import numpy as np\n",
        "vetor = np.array([1,2,3,4,5,6,7,8])\n",
        "print(vetor)\n",
        "\n",
        "modulo = np.linalg.norm(vetor)\n",
        "print(modulo)"
      ],
      "metadata": {
        "colab": {
          "base_uri": "https://localhost:8080/"
        },
        "id": "4r1wtsKJ8c3a",
        "outputId": "842aa8a0-f617-4b8f-f5cb-a2bbf3f9a699"
      },
      "execution_count": 5,
      "outputs": [
        {
          "output_type": "stream",
          "name": "stdout",
          "text": [
            "[1 2 3 4 5 6 7 8]\n"
          ]
        }
      ]
    },
    {
      "cell_type": "code",
      "source": [
        "#produto de vetor bidimencional\n",
        "\n",
        "import numpy as np\n",
        "vetor2 = np.array([-55,12])\n",
        "print (vetor2)\n",
        "modulo2 = np.linalg.norm(vetor2)\n",
        "print(modulo2)"
      ],
      "metadata": {
        "colab": {
          "base_uri": "https://localhost:8080/"
        },
        "id": "5126RryF9kSB",
        "outputId": "37ea96b9-2ea6-4b9c-ed80-44a1634e943a"
      },
      "execution_count": 9,
      "outputs": [
        {
          "output_type": "stream",
          "name": "stdout",
          "text": [
            "[-55  12]\n",
            "56.293871780150276\n"
          ]
        }
      ]
    },
    {
      "cell_type": "code",
      "source": [
        "#produto de vetor tridimencional\n",
        "\n",
        "import numpy as np\n",
        "vetor3 = np.array([11,-23,-4])\n",
        "print(vetor3)\n",
        "modulo3 = np.linalg.norm(vetor3)\n",
        "print(modulo3)"
      ],
      "metadata": {
        "colab": {
          "base_uri": "https://localhost:8080/"
        },
        "id": "vkhJRUjE-Lc6",
        "outputId": "675fafd6-31a9-4b3d-c46a-6e3e365de053"
      },
      "execution_count": 10,
      "outputs": [
        {
          "output_type": "stream",
          "name": "stdout",
          "text": [
            "[ 11 -23  -4]\n",
            "25.80697580112788\n"
          ]
        }
      ]
    },
    {
      "cell_type": "code",
      "source": [
        "from re import sub\n",
        "import numpy as np\n",
        "u = np.array([-3,-5])\n",
        "v = np.array([6,27])\n",
        "\n",
        "soma = u + v\n",
        "print(f'A soma dos vetores é: {soma}')\n",
        "\n",
        "subtracao = u - v\n",
        "print(f'A subtração dos vetores é: {subtracao}')\n",
        "\n",
        "multp = 9 * u\n",
        "print(f'A multiplicação dos vetores é: {multp}')\n",
        "\n",
        "multpFra = (1/3) * v\n",
        "print(f'A multiplicação dos vetores é: {multpFra}')"
      ],
      "metadata": {
        "colab": {
          "base_uri": "https://localhost:8080/"
        },
        "id": "j2h-Y99a_Xo7",
        "outputId": "1d8a710b-6885-4842-e3f4-51ebf346a5c3"
      },
      "execution_count": 12,
      "outputs": [
        {
          "output_type": "stream",
          "name": "stdout",
          "text": [
            "A soma dos vetores é: [ 3 22]\n",
            "A subtração dos vetores é: [ -9 -32]\n",
            "A multiplicação dos vetores é: [-27 -45]\n",
            "A multiplicação dos vetores é: [2. 9.]\n"
          ]
        }
      ]
    },
    {
      "cell_type": "code",
      "source": [
        "#Operações\n",
        "\n",
        "import numpy as np\n",
        "u = np.array([2,(5/3)])\n",
        "v = np.array([-1,7])\n",
        "\n",
        "soma = u + v\n",
        "print(f\"A soma dos vetores é : {soma}\")\n",
        "\n",
        "subtracao = u - v\n",
        "print(f\"A soma subtração dos vetores é : {subtracao}\")\n",
        "\n",
        "multiplicacao = 3 * u\n",
        "print(f\"A multiplicação dos vetores é : {multiplicacao}\")\n",
        "\n",
        "multiplicacaoFra = (1/5) * v\n",
        "print(f\"A multiplicação dos vetores por fração é : {multiplicacaoFra}\")"
      ],
      "metadata": {
        "colab": {
          "base_uri": "https://localhost:8080/"
        },
        "id": "rLnnN8ZFIWZu",
        "outputId": "46c9a9cb-61d2-478b-b2ae-e21e375dfef1"
      },
      "execution_count": 18,
      "outputs": [
        {
          "output_type": "stream",
          "name": "stdout",
          "text": [
            "A soma dos vetores é : [1.         8.66666667]\n",
            "A soma subtração dos vetores é : [ 3.         -5.33333333]\n",
            "A multiplicação dos vetores é : [6. 5.]\n",
            "A multiplicação dos vetores por fração é : [-0.2  1.4]\n"
          ]
        }
      ]
    },
    {
      "cell_type": "code",
      "source": [
        "#Resultante dos vetores\n",
        "\n",
        "import numpy as np\n",
        "import math as mt\n",
        "\n",
        "a = np.array([-2,3])\n",
        "b = np.array([7,4])\n",
        "\n",
        "#r*r = a*a + b*b + 2a.b. cos(135º)\n",
        "\n",
        "#Modelo dos vetores\n",
        "moduloA = np.linalg.norm(a)\n",
        "moduloB = np.linalg.norm(b)\n",
        "\n",
        "print(f\"A = {moduloA}\")\n",
        "print(f\"B = {moduloB}\")\n",
        "\n",
        "#Cosseno de 135º\n",
        "cos135 = mt.cos(mt.radians(135))\n",
        "\n",
        "\n",
        "r2 = (moduloA**2)+(moduloB**2)+(2*moduloA*moduloB*cos135)\n",
        "r = mt.sqrt(r2)\n",
        "print(r)"
      ],
      "metadata": {
        "colab": {
          "base_uri": "https://localhost:8080/"
        },
        "id": "z21PWdY_LlQq",
        "outputId": "2030175c-056b-4a8a-8759-200b4743a84b"
      },
      "execution_count": 33,
      "outputs": [
        {
          "output_type": "stream",
          "name": "stdout",
          "text": [
            "A = 3.605551275463989\n",
            "B = 8.06225774829855\n",
            "6.073745995496607\n"
          ]
        }
      ]
    },
    {
      "cell_type": "code",
      "source": [
        "#Produto escalar\n",
        "\n",
        "import numpy as np\n",
        "\n",
        "a = np.array([5,4,2])\n",
        "b = np.array([1,3,-12])\n",
        "\n",
        "#bibliotaca para calcular o produto escalar\n",
        "produto = np.dot(a,b)\n",
        "print(produto)"
      ],
      "metadata": {
        "colab": {
          "base_uri": "https://localhost:8080/"
        },
        "id": "Lq3HSRaqh6kn",
        "outputId": "928dc1e1-8964-4442-de04-50d684bf6477"
      },
      "execution_count": 37,
      "outputs": [
        {
          "output_type": "stream",
          "name": "stdout",
          "text": [
            "-7\n"
          ]
        }
      ]
    },
    {
      "cell_type": "code",
      "source": [
        "import numpy as np\n",
        "matriz = np.array([[1,2,3],[4,5,6],[7,8,9]]) #cada [] é uma linha da matriz\n",
        "print(matriz)\n",
        "matriz.shape #shape mostra o tamanho da matriz"
      ],
      "metadata": {
        "colab": {
          "base_uri": "https://localhost:8080/"
        },
        "id": "I18JB8yWmsPC",
        "outputId": "901b0694-2dec-4c96-f8f0-294af85b6149"
      },
      "execution_count": 1,
      "outputs": [
        {
          "output_type": "stream",
          "name": "stdout",
          "text": [
            "[[1 2 3]\n",
            " [4 5 6]\n",
            " [7 8 9]]\n"
          ]
        },
        {
          "output_type": "execute_result",
          "data": {
            "text/plain": [
              "(3, 3)"
            ]
          },
          "metadata": {},
          "execution_count": 1
        }
      ]
    },
    {
      "cell_type": "code",
      "source": [
        "import numpy as np\n",
        "a = np.random.rand(2,2)# random rand gera valor\n",
        "print(f\"A matriz A é: {a}\")\n",
        "\n",
        "b = np.random.rand(3,4)\n",
        "print(f\"A matriz B é: {b}\")"
      ],
      "metadata": {
        "colab": {
          "base_uri": "https://localhost:8080/"
        },
        "id": "MFNOZswfJZih",
        "outputId": "e74f9ea9-2d27-4e50-ad12-cbd3e2fe9ff8"
      },
      "execution_count": 3,
      "outputs": [
        {
          "output_type": "stream",
          "name": "stdout",
          "text": [
            "A matriz A é: [[0.60859186 0.82927983]\n",
            " [0.09125398 0.50400507]]\n",
            "A matriz B é: [[0.68017277 0.31514121 0.19265128 0.89086636]\n",
            " [0.72108951 0.76653632 0.89054197 0.24187985]\n",
            " [0.99811572 0.78759393 0.14220196 0.47648342]]\n"
          ]
        }
      ]
    },
    {
      "cell_type": "code",
      "source": [
        "#Matriz de identidade\n",
        "\n",
        "import numpy as np\n",
        "I = np.identity(3)#identity gera a matriz de identidade\n",
        "print(I)"
      ],
      "metadata": {
        "colab": {
          "base_uri": "https://localhost:8080/"
        },
        "id": "ZqT1giUiKFRi",
        "outputId": "b630d95a-baca-48e0-f9e4-63c67e1878b9"
      },
      "execution_count": 4,
      "outputs": [
        {
          "output_type": "stream",
          "name": "stdout",
          "text": [
            "[[1. 0. 0.]\n",
            " [0. 1. 0.]\n",
            " [0. 0. 1.]]\n"
          ]
        }
      ]
    },
    {
      "cell_type": "code",
      "source": [
        "#Matriz trsnposta\n",
        "\n",
        "import numpy as np\n",
        "\n",
        "A = np.random.rand(3,2)#linha x coluna\n",
        "\n",
        "A_Transpose = np.transpose(A)#trsnpose serve para gerar uma matriz transposta\n",
        "\n",
        "print(A)\n",
        "print(\"\")\n",
        "print(A_Transpose)"
      ],
      "metadata": {
        "colab": {
          "base_uri": "https://localhost:8080/"
        },
        "id": "JqDPEb0vKV7C",
        "outputId": "40fde9f3-35b5-4173-8ac2-42ba62f645af"
      },
      "execution_count": 6,
      "outputs": [
        {
          "output_type": "stream",
          "name": "stdout",
          "text": [
            "[[0.02296441 0.21661423]\n",
            " [0.63456144 0.55607702]\n",
            " [0.07988291 0.38911271]]\n",
            "\n",
            "[[0.02296441 0.63456144 0.07988291]\n",
            " [0.21661423 0.55607702 0.38911271]]\n"
          ]
        }
      ]
    },
    {
      "cell_type": "code",
      "source": [
        "#Operação com Matrizes\n",
        "\n",
        "import numpy as np\n",
        "\n",
        "a = np.array([[0,-9], [-5,8], [-15,13]])\n",
        "\n",
        "b = np.array([[3,-19], [-4,7], [14,-11]])\n",
        "\n",
        "c = a + b #soma\n",
        "\n",
        "d = a - b #subtração\n",
        "\n",
        "e = a * 15 #multiplicação\n",
        "\n",
        "print(f\"A soma das matrizes é:\")\n",
        "print(c)\n",
        "print(\"\")\n",
        "print(f\"A subtração das matrizes é:\")\n",
        "print(d)\n",
        "print(\"\")\n",
        "print(f\"A multiplicação das matrizes é:\")\n",
        "print(e)"
      ],
      "metadata": {
        "colab": {
          "base_uri": "https://localhost:8080/"
        },
        "id": "WJnNalAeRUzq",
        "outputId": "4a5c56a2-e857-4cf1-a651-7c75363b1109"
      },
      "execution_count": 13,
      "outputs": [
        {
          "output_type": "stream",
          "name": "stdout",
          "text": [
            "A soma das matrizes é:\n",
            "[[  3 -28]\n",
            " [ -9  15]\n",
            " [ -1   2]]\n",
            "\n",
            "A subtração das matrizes é:\n",
            "[[ -3  10]\n",
            " [ -1   1]\n",
            " [-29  24]]\n",
            "\n",
            "A multiplicação das matrizes é:\n",
            "[[   0 -135]\n",
            " [ -75  120]\n",
            " [-225  195]]\n"
          ]
        }
      ]
    },
    {
      "cell_type": "code",
      "source": [
        "#multiplicação entre matrizes\n",
        "\n",
        "import numpy as np\n",
        "\n",
        "a = np.array([[1,-3,5], [8,0,3]])\n",
        "b = np.array([[2,4], [6,10], [1,5]])\n",
        "\n",
        "c = np.matmul(a,b)\n",
        "\n",
        "print(f\"O resultado da mutiplicação entre as matrizes é:\")\n",
        "print(c)"
      ],
      "metadata": {
        "colab": {
          "base_uri": "https://localhost:8080/"
        },
        "id": "ZmNkcpf7XfsE",
        "outputId": "f68166b8-7825-49cb-ecc9-e57c61dd94d9"
      },
      "execution_count": 1,
      "outputs": [
        {
          "output_type": "stream",
          "name": "stdout",
          "text": [
            "O resultado da mutiplicação entre as matrizes é:\n",
            "[[-11  -1]\n",
            " [ 19  47]]\n"
          ]
        }
      ]
    },
    {
      "cell_type": "code",
      "source": [
        "# Determinante de matriz\n",
        "\n",
        "import numpy as np\n",
        "\n",
        "a = np.array([[1,9,5], [3,7,8], [10,4,2]])\n",
        "\n",
        "detA = np.linalg.det(a)#lenalg para calcular a algebra e Det para usar infor que é determiante\n",
        "\n",
        "print(\"A determinante a matriz é\")\n",
        "print(detA)"
      ],
      "metadata": {
        "colab": {
          "base_uri": "https://localhost:8080/"
        },
        "id": "WHuO4okmtHR0",
        "outputId": "8137d7f5-afe5-4671-dfb5-5ab444a9dba3"
      },
      "execution_count": 19,
      "outputs": [
        {
          "output_type": "stream",
          "name": "stdout",
          "text": [
            "A determinante a matriz é\n",
            "358.0\n"
          ]
        }
      ]
    },
    {
      "cell_type": "code",
      "source": [
        "import numpy as np\n",
        "import math as mt\n",
        "\n",
        "a = np.array([[2,5,-3], [1,4,7], [-2,0,6]])\n",
        "\n",
        "b = np.array([[mt.sqrt(2),2,1], [-1,mt.sqrt(3),3],[3,2,mt.sqrt(6)]])\n",
        "\n",
        "detA = np.linalg.det(a)\n",
        "detB = np.linalg.det(b)\n",
        "\n",
        "print(detA)\n",
        "print(\"\")\n",
        "print(detB)"
      ],
      "metadata": {
        "colab": {
          "base_uri": "https://localhost:8080/"
        },
        "id": "DRVo4lSdulmT",
        "outputId": "1a77831f-7cce-49b3-dc73-a44650e12f56"
      },
      "execution_count": 21,
      "outputs": [
        {
          "output_type": "stream",
          "name": "stdout",
          "text": [
            "-76.0\n",
            "\n",
            "13.217545688621149\n"
          ]
        }
      ]
    }
  ],
  "metadata": {
    "colab": {
      "name": "Damos-lhe as boas-vindas ao Colaboratory",
      "toc_visible": true,
      "provenance": []
    },
    "kernelspec": {
      "display_name": "Python 3",
      "name": "python3"
    }
  },
  "nbformat": 4,
  "nbformat_minor": 0
}