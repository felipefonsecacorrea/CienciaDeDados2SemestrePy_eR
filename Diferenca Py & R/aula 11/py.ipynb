{
  "nbformat": 4,
  "nbformat_minor": 0,
  "metadata": {
    "colab": {
      "provenance": []
    },
    "kernelspec": {
      "name": "python3",
      "display_name": "Python 3"
    },
    "language_info": {
      "name": "python"
    }
  },
  "cells": [
    {
      "cell_type": "code",
      "execution_count": null,
      "metadata": {
        "id": "65zgiQiQtupT"
      },
      "outputs": [],
      "source": [
        "#Tratamenro de erros\n",
        "try\n",
        "  resultado = 10/0\n",
        "except ZeroDivisionError:\n",
        "  print('Erro: Divisao por zero nao e permitida')"
      ]
    },
    {
      "cell_type": "code",
      "source": [
        "#Implemente um bloco try-except para capturar um indice fora dos limites de uma lista\n",
        "lista = [1,2,3]\n",
        "try:\n",
        "  elemento = lista[5]\n",
        "except IndexError:\n",
        "  print('erro: indice fora dos limites da lista')"
      ],
      "metadata": {
        "colab": {
          "base_uri": "https://localhost:8080/"
        },
        "id": "QzeDriTtxAmp",
        "outputId": "caa353fe-7077-44e6-d7f5-fd3b86a70e25"
      },
      "execution_count": 2,
      "outputs": [
        {
          "output_type": "stream",
          "name": "stdout",
          "text": [
            "erro: indice fora dos limites da lista\n"
          ]
        }
      ]
    },
    {
      "cell_type": "code",
      "source": [
        "#implemente um bloco try-except para capturar uma chave inexistente em um dicionario\n",
        "dicionario = {'a': 1, 'b': 2, 'c': 3, 'd':4, 'e':5}\n",
        "try:\n",
        "  valor = dicionario['f']\n",
        "  print(valor)\n",
        "except KeyError:\n",
        "  print('erro: chave nao encontrada no dicionario')"
      ],
      "metadata": {
        "colab": {
          "base_uri": "https://localhost:8080/"
        },
        "id": "a8xw5XUG1Pn2",
        "outputId": "0b4812f3-8c8e-42f2-92f6-b0c64e6c58a3"
      },
      "execution_count": 8,
      "outputs": [
        {
          "output_type": "stream",
          "name": "stdout",
          "text": [
            "erro: chave nao encontrada no dicionario\n"
          ]
        }
      ]
    },
    {
      "cell_type": "code",
      "source": [
        "#ex extra\n",
        "nome = str(input('Digite seu nome: '))\n",
        "\n",
        "def main():\n",
        "  i = True\n",
        "  while i == True:\n",
        "    try:\n",
        "      n1 = float(input('Digite o primeiro numero: '))\n",
        "      n2 = float(input('Digite o segundo numero: '))\n",
        "      resultado = n1/n2\n",
        "      resultado2 = n2/n1\n",
        "    #erro de divisao por zero\n",
        "\n",
        "    #erro de velor zero\n",
        "    except ZeroDivisionError as e:\n",
        "      print(f'Erro: {e}')\n",
        "\n",
        "    #erro por inserir letra\n",
        "    except ValueError as e:\n",
        "      print(f'Erro: {e}')\n",
        "\n",
        "    #erro qualquer\n",
        "    except Exception as e:\n",
        "      print(f'Erro: {e}')\n",
        "\n",
        "    else:\n",
        "      print(f'Divisao: {n2} / {n1} = {resultado}')\n",
        "\n",
        "    teste = str(input(f'{nome} digite *A* para continuar ou qualquer outro caractere para para: '))\n",
        "\n",
        "    if (teste == \"a\") or (teste == \"A\"):\n",
        "      print('')\n",
        "    else:\n",
        "      print(f'Programa finalizado, até breve {nome} !')\n",
        "      i = False\n",
        "\n",
        "    #finally:\n",
        "\n",
        "if True:\n",
        "  main()"
      ],
      "metadata": {
        "colab": {
          "base_uri": "https://localhost:8080/"
        },
        "id": "KYWjGq8h6GWq",
        "outputId": "c759f66e-bc0e-4f70-d7a4-886b1067e2dc"
      },
      "execution_count": 35,
      "outputs": [
        {
          "output_type": "stream",
          "name": "stdout",
          "text": [
            "Digite seu nome: felipe\n",
            "Digite o primeiro numero: 10\n",
            "Digite o segundo numero: 0\n",
            "Erro: float division by zero\n",
            "felipe digite *A* para continuar ou qualquer outro caractere para para: a\n",
            "\n",
            "Digite o primeiro numero: 0\n",
            "Digite o segundo numero: 10\n",
            "Erro: float division by zero\n",
            "felipe digite *A* para continuar ou qualquer outro caractere para para: 10\n",
            "Programa finalizado, até breve felipe !\n"
          ]
        }
      ]
    },
    {
      "cell_type": "code",
      "source": [
        "string = 'abc'\n",
        "\n",
        "try:\n",
        "  numero = int(string)\n",
        "except:\n",
        "  print('erro na conversão')\n"
      ],
      "metadata": {
        "id": "N8kdedhgCY4A"
      },
      "execution_count": null,
      "outputs": []
    },
    {
      "cell_type": "code",
      "source": [
        "dicionario = {'a': [1,2,3], 'b':[4,5,6]}\n",
        "try:\n",
        "  elemento = dicionario['c'][0]\n",
        "except KeyError:\n",
        "  print('erro: chave nao encontrada no dicionario')\n",
        "except IndexError:\n",
        "  print('erro: indice fora dos limites da lista')"
      ],
      "metadata": {
        "id": "7CKfMtq6CzIM"
      },
      "execution_count": null,
      "outputs": []
    },
    {
      "cell_type": "code",
      "source": [],
      "metadata": {
        "id": "Y8ZtTynzDtk4"
      },
      "execution_count": null,
      "outputs": []
    }
  ]
}