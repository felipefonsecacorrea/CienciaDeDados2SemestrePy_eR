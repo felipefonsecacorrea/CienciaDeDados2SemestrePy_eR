{
  "nbformat": 4,
  "nbformat_minor": 0,
  "metadata": {
    "colab": {
      "provenance": []
    },
    "kernelspec": {
      "name": "ir",
      "display_name": "R"
    },
    "language_info": {
      "name": "R"
    }
  },
  "cells": [
    {
      "cell_type": "code",
      "execution_count": null,
      "metadata": {
        "id": "3ihvGav9tvFi"
      },
      "outputs": [],
      "source": [
        "#Tratamenro de erros\n",
        "tryCatch({\n",
        "  resultado <- 10/0\n",
        "}, erro = function (e){\n",
        "  print('erro')\n",
        "})"
      ]
    },
    {
      "cell_type": "code",
      "source": [
        "lista <- c(1,2,3)\n",
        "\n",
        "tryCatch({\n",
        "  elemento <- lista[10]\n",
        "},erro = function(e){\n",
        "    print(\"Erro: indice fora dos limistes da lista\")\n",
        "})"
      ],
      "metadata": {
        "id": "svzTsFeLxGE8"
      },
      "execution_count": 11,
      "outputs": []
    },
    {
      "cell_type": "code",
      "source": [
        "#implemente um bloco try-except para capturar uma chave inexistente em um dicionario\n",
        "\n",
        "dicionario <- list(a=1, b=2, c=3, d=4, e=5, f=6, g=7, h=8, i=9)\n",
        "\n",
        "tryCatch({\n",
        "  i <- dicionario[[\"j\"]]\n",
        "},erro = function(e)\n",
        "  print(paste(\"essa chave n existe\", i))\n",
        ")"
      ],
      "metadata": {
        "id": "Ncf3zRk_yvIA"
      },
      "execution_count": 15,
      "outputs": []
    },
    {
      "cell_type": "code",
      "source": [
        "string <- \"abc\"\n",
        "\n",
        "tryCatch({\n",
        "  numero <- as.integer(string)\n",
        "}, warning = function(w){\n",
        "  print(\"erro ao converter string para inteiro\")\n",
        "}\n",
        ")"
      ],
      "metadata": {
        "colab": {
          "base_uri": "https://localhost:8080/"
        },
        "id": "Ee4CA_CA3D-v",
        "outputId": "d4cf3b98-b682-4585-df51-d53ea6339304"
      },
      "execution_count": 20,
      "outputs": [
        {
          "output_type": "stream",
          "name": "stdout",
          "text": [
            "[1] \"erro ao converter string para inteiro\"\n"
          ]
        }
      ]
    },
    {
      "cell_type": "code",
      "source": [
        "dicionario <- list(a = c(1,2,3), b = c(4,5,6))\n",
        "tryCatch({\n",
        "  elemento <- dicionario[['c']][1]\n",
        "},erro = function(e){\n",
        "  if(inherits(e,\"simplesErro\")){\n",
        "  print('chve inexistente')\n",
        "  }\n",
        "})\n",
        ""
      ],
      "metadata": {
        "id": "JCHSZiN5ENGv"
      },
      "execution_count": 24,
      "outputs": []
    }
  ]
}