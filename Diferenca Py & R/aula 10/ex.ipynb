{
  "nbformat": 4,
  "nbformat_minor": 0,
  "metadata": {
    "colab": {
      "provenance": []
    },
    "kernelspec": {
      "name": "python3",
      "display_name": "Python 3"
    },
    "language_info": {
      "name": "python"
    }
  },
  "cells": [
    {
      "cell_type": "code",
      "execution_count": null,
      "metadata": {
        "id": "SUTDvLhgSr-E"
      },
      "outputs": [],
      "source": [
        "#py\n",
        "\n",
        "i = {'a':1, 'b':2, 'c':3, 'd':4, 'e':5, 'f':6, 'g':7, 'h':8, 'i':9, 'j':10}\n",
        "\n",
        "teste = 3\n",
        "\n",
        "for x,y in i.items():\n",
        "\n",
        "  print(f'posição: {x}, valor: {y}')\n",
        "\n",
        "  if y == teste:\n",
        "    break"
      ]
    },
    {
      "cell_type": "code",
      "source": [
        "#r\n",
        "i <- list(\n",
        "  a = 1,\n",
        "  b = 2,\n",
        "  c = 3,\n",
        "  d = 4,\n",
        "  e = 5,\n",
        "  f = 6,\n",
        "  g = 7,\n",
        "  h = 8,\n",
        "  i = 9,\n",
        "  j = 10\n",
        ")\n",
        "\n",
        "teste <- 3\n",
        "\n",
        "for (chave in names(i)) {\n",
        "  valor <- i[[chave]]\n",
        "\n",
        "  cat(sprintf(\"posição: %s, valor: %d\\n\", chave, valor))\n",
        "\n",
        "  if (valor == teste) {\n",
        "    break\n",
        "  }\n",
        "}"
      ],
      "metadata": {
        "id": "bNZoCkkoV9Fs"
      },
      "execution_count": null,
      "outputs": []
    }
  ]
}