{
  "nbformat": 4,
  "nbformat_minor": 0,
  "metadata": {
    "colab": {
      "provenance": []
    },
    "kernelspec": {
      "name": "python3",
      "display_name": "Python 3"
    },
    "language_info": {
      "name": "python"
    }
  },
  "cells": [
    {
      "cell_type": "code",
      "execution_count": null,
      "metadata": {
        "id": "sTkuBcFwxJ40"
      },
      "outputs": [],
      "source": [
        "#Operadores condicionais\n",
        "#Condicionais semples\n",
        "\n",
        "#Verifique se um numero é positivo\n",
        "numero = 5\n",
        "\n",
        "if numero > 0:\n",
        "  print('O numero e positivo')\n",
        "else:\n",
        "  print('O numero e negativo')\n",
        "\n",
        "\n",
        "#Verifique se uma palavra contem mais de 5 caracteres\n",
        "palavra = 'Qualquer'\n",
        "if len(palavra) >5:\n",
        "  print('Tem mais que 5 caracteres')\n",
        "else:\n",
        "  print('Tem menos que 5 caracteres')\n",
        "\n",
        "#Verifique se um ano e bissexto\n",
        "ano = 2024\n",
        "if(ano % 4 == 0 ano and % 100!= 0)or(ano % 400 ==0):\n",
        "  print('o ano e bissexto')\n",
        "else:\n",
        "  print('O ano nao e bissexto')"
      ]
    },
    {
      "cell_type": "markdown",
      "source": [],
      "metadata": {
        "id": "HzU7gIHPxgnM"
      }
    },
    {
      "cell_type": "code",
      "source": [
        "#verifique se um numero esta entre 10 e 20\n",
        "numero = 30\n",
        "if numero >= 10 and numero <= 20:\n",
        "  print('O numero esta entre 10 e 20')\n",
        "else:\n",
        "  print('O numero nao esta entre 10 e 20')"
      ],
      "metadata": {
        "colab": {
          "base_uri": "https://localhost:8080/"
        },
        "id": "fvQXbF-8xn1M",
        "outputId": "5f819360-7156-4a8c-fcaf-5b3121f095da"
      },
      "execution_count": 2,
      "outputs": [
        {
          "output_type": "stream",
          "name": "stdout",
          "text": [
            "O numero nao esta entre 10 e 20\n"
          ]
        }
      ]
    },
    {
      "cell_type": "code",
      "source": [
        "#verifique se uma string contem letra minuscula\n",
        "\n",
        "txt = \"Felipe\"\n",
        "if txt.islower():\n",
        "  print('A string contem letra minuscula')\n",
        "else:\n",
        "  print('A string nao contem letra minuscula')"
      ],
      "metadata": {
        "colab": {
          "base_uri": "https://localhost:8080/"
        },
        "id": "Jhc8c2ISzZ5K",
        "outputId": "bc276c11-3bc6-4d9b-8ca2-a15371c1ba03"
      },
      "execution_count": 5,
      "outputs": [
        {
          "output_type": "stream",
          "name": "stdout",
          "text": [
            "A string nao contem letra minuscula\n"
          ]
        }
      ]
    },
    {
      "cell_type": "code",
      "source": [
        "#verifique se uma string contem letra e numeros\n",
        "\n",
        "txt = \"f\"\n",
        "\n",
        "if any(c.isalpha for c in txt) and any(c.isdigit() for c in txt) :\n",
        "  print('A string contem letra e numeros')\n",
        "else:\n",
        "  print('A string nao contem letra e numeros')"
      ],
      "metadata": {
        "colab": {
          "base_uri": "https://localhost:8080/"
        },
        "id": "FBzgmYYQ0Y5T",
        "outputId": "10082024-b73f-4bbe-9a1f-d5838a8e6d1a"
      },
      "execution_count": 10,
      "outputs": [
        {
          "output_type": "stream",
          "name": "stdout",
          "text": [
            "A string nao contem letra e numeros\n"
          ]
        }
      ]
    },
    {
      "cell_type": "code",
      "source": [
        "#verifique a faixa etaria de uma pessoa (criança, adolecente, adulto, idoso)\n",
        "\n",
        "idade = 65\n",
        "\n",
        "if idade < 13:\n",
        "  print('crianca')\n",
        "elif idade >= 13 and idade < 18:\n",
        "  print('adolescente')\n",
        "elif idade >= 18 and idade < 60:\n",
        "  print('adulto')\n",
        "else:\n",
        "  print('idoso')"
      ],
      "metadata": {
        "colab": {
          "base_uri": "https://localhost:8080/"
        },
        "id": "-5XDZMOd4wbM",
        "outputId": "7a4c5788-f6ba-40f6-bdfc-052ddb6141d5"
      },
      "execution_count": 13,
      "outputs": [
        {
          "output_type": "stream",
          "name": "stdout",
          "text": [
            "idoso\n"
          ]
        }
      ]
    },
    {
      "cell_type": "code",
      "source": [
        "for i in range(1,11):\n",
        "  print(i)"
      ],
      "metadata": {
        "id": "vYM84vjeIeMM"
      },
      "execution_count": null,
      "outputs": []
    },
    {
      "cell_type": "code",
      "source": [
        "lista = {1,2,3,4,5}\n",
        "\n",
        "for elemento in lista:\n",
        "  print(elemento)"
      ],
      "metadata": {
        "colab": {
          "base_uri": "https://localhost:8080/"
        },
        "id": "KPFNPYD6KLuF",
        "outputId": "c0b6d31f-6ab7-4291-ef07-8645e71d1dc1"
      },
      "execution_count": 14,
      "outputs": [
        {
          "output_type": "stream",
          "name": "stdout",
          "text": [
            "1\n",
            "2\n",
            "3\n",
            "4\n",
            "5\n"
          ]
        }
      ]
    },
    {
      "cell_type": "code",
      "source": [
        "dicionario = {'a':1, 'b':2, 'c':3}\n",
        "\n",
        "for chave,valor in dicionario.items():\n",
        "  print(f\"chave: {chave}, valor: {valor}\")"
      ],
      "metadata": {
        "colab": {
          "base_uri": "https://localhost:8080/"
        },
        "id": "owKphgzLKRxg",
        "outputId": "13433cfe-25a9-4858-d992-03748b988d7a"
      },
      "execution_count": 17,
      "outputs": [
        {
          "output_type": "stream",
          "name": "stdout",
          "text": [
            "chave: a, valor: 1\n",
            "chave: b, valor: 2\n",
            "chave: c, valor: 3\n"
          ]
        }
      ]
    },
    {
      "cell_type": "code",
      "source": [
        "#imprima os numeros de 1 a 10 usando o laço while\n",
        "\n",
        "contador = 1\n",
        "\n",
        "while contador <= 10:\n",
        "  print(contador)\n",
        "  contador += 1\n",
        ""
      ],
      "metadata": {
        "colab": {
          "base_uri": "https://localhost:8080/"
        },
        "id": "Qwzh6olNNvDw",
        "outputId": "2a5f3a46-df8b-4bbd-d84a-8073b67a43a2"
      },
      "execution_count": 18,
      "outputs": [
        {
          "output_type": "stream",
          "name": "stdout",
          "text": [
            "1\n",
            "2\n",
            "3\n",
            "4\n",
            "5\n",
            "6\n",
            "7\n",
            "8\n",
            "9\n",
            "10\n"
          ]
        }
      ]
    },
    {
      "cell_type": "code",
      "source": [
        "i = {'a':1, 'b':2, 'c':3, 'd':4, 'e':5, 'f':6, 'g':7, 'h':8, 'i':9, 'j':10}\n",
        "\n",
        "teste = 3\n",
        "\n",
        "for x,y in i.items():\n",
        "\n",
        "  print(f'posição: {x}, valor: {y}')\n",
        "\n",
        "  if y == teste:\n",
        "    break"
      ],
      "metadata": {
        "colab": {
          "base_uri": "https://localhost:8080/"
        },
        "id": "9aBF2b8TQZAW",
        "outputId": "166e4e2c-9d30-4ab2-9232-27545790238c"
      },
      "execution_count": 33,
      "outputs": [
        {
          "output_type": "stream",
          "name": "stdout",
          "text": [
            "posição: a, valor: 1\n",
            "posição: b, valor: 2\n",
            "posição: c, valor: 3\n"
          ]
        }
      ]
    }
  ]
}