{
  "nbformat": 4,
  "nbformat_minor": 0,
  "metadata": {
    "colab": {
      "provenance": []
    },
    "kernelspec": {
      "name": "ir",
      "display_name": "R"
    },
    "language_info": {
      "name": "R"
    }
  },
  "cells": [
    {
      "cell_type": "code",
      "execution_count": null,
      "metadata": {
        "id": "i_RfxsUhxP1v"
      },
      "outputs": [],
      "source": [
        "#Operadores condicionais\n",
        "#Condicionais semples\n",
        "\n",
        "#Verifique se um numero é positivo\n",
        "numero <- 5\n",
        "\n",
        "if (numero > 0){\n",
        "  print('O numero e positivo')\n",
        "}\n",
        "else{\n",
        "  print('O numero e negativo')\n",
        "}\n",
        "\n",
        "#Verifique se uma palavra contem mais de 5 caracteres\n",
        "palavra <- 'Qualquer'\n",
        "\n",
        "if (nchar(palavra) > 0){\n",
        "  print('Tem mais que 5 caracteres')\n",
        "}\n",
        "else{\n",
        "  print('Tem menos que 5 caracteres')\n",
        "\n",
        "#Verifique se um ano e bissexto\n",
        "ano = 2024\n",
        "if(ano % 4 == 0 ano and % 100!= 0)or(ano % 400 ==0):\n",
        "  print('o ano e bissexto')\n",
        "else:\n",
        "  print('O ano nao e bissexto')"
      ]
    },
    {
      "cell_type": "code",
      "source": [
        "#verifique se um numero esta entre 10 e 20\n",
        "numero <- 30\n",
        "\n",
        "if (numero >= 10 & numero <= 20){\n",
        "  print('O numero esta entre 10 e 20')\n",
        "}else{\n",
        "  print('O numero não esta entre 10 e 20')\n",
        "}"
      ],
      "metadata": {
        "colab": {
          "base_uri": "https://localhost:8080/"
        },
        "id": "AO1ESUlJydv_",
        "outputId": "e31c777e-4efd-4c61-b531-b58a5ad2e140"
      },
      "execution_count": 3,
      "outputs": [
        {
          "output_type": "stream",
          "name": "stdout",
          "text": [
            "[1] \"O numero não esta entre 10 e 20\"\n"
          ]
        }
      ]
    },
    {
      "cell_type": "code",
      "source": [
        "#verifique se uma string contem letra minuscula\n",
        "\n",
        "txt = \"Felipe\"\n",
        "\n",
        "if(){\n",
        "  print('A string contem letra minuscula')\n",
        "}else{\n",
        "  print('A string nao contem letra minuscula')\n",
        "}"
      ],
      "metadata": {
        "id": "SxXQdWUmzyt8"
      },
      "execution_count": null,
      "outputs": []
    },
    {
      "cell_type": "code",
      "source": [
        "#verifique se uma string contem letra e numeros\n",
        "\n",
        "string <- \"felipe\"\n",
        "\n",
        "if (any(grepl(\"[A-Za-z]\",string)) & any(grepl(\"[0-9]\",string))){\n",
        "  print('A string contem letra e numeros')\n",
        "}else{\n",
        "  print('A string nao contem letra e numeros')\n",
        "}"
      ],
      "metadata": {
        "colab": {
          "base_uri": "https://localhost:8080/"
        },
        "id": "2bQjlS-50QEL",
        "outputId": "a5054eea-97a9-4fef-92ff-14403b21bd32"
      },
      "execution_count": 12,
      "outputs": [
        {
          "output_type": "stream",
          "name": "stdout",
          "text": [
            "[1] \"A string nao contem letra e numeros\"\n"
          ]
        }
      ]
    },
    {
      "cell_type": "code",
      "source": [
        "#verifique a faixa etaria de uma pessoa (criança, adolecente, adulto, idoso)\n",
        "\n",
        "idade <- 25\n",
        "\n",
        "if (idade < 13){\n",
        "  print('crianca')\n",
        "}else if((idade >= 13) & (idade < 18)){\n",
        "  print('adolescente')\n",
        "}else if((idade >= 18) & (idade < 60)){\n",
        "  print('adulto')\n",
        "}else{\n",
        "  print('idoso')\n",
        "}"
      ],
      "metadata": {
        "colab": {
          "base_uri": "https://localhost:8080/"
        },
        "id": "ahf-jQcc5XCh",
        "outputId": "2a2bdfe1-e02f-42b0-a652-4f89087cde16"
      },
      "execution_count": 15,
      "outputs": [
        {
          "output_type": "stream",
          "name": "stdout",
          "text": [
            "[1] \"adulto\"\n"
          ]
        }
      ]
    },
    {
      "cell_type": "code",
      "source": [
        "for (i in 1:10){\n",
        "  print(i)\n",
        "}"
      ],
      "metadata": {
        "colab": {
          "base_uri": "https://localhost:8080/"
        },
        "id": "PIgfwVlTI5Hh",
        "outputId": "3781e183-2d33-4e8b-be1e-bb3a5d560be8"
      },
      "execution_count": 16,
      "outputs": [
        {
          "output_type": "stream",
          "name": "stdout",
          "text": [
            "[1] 1\n",
            "[1] 2\n",
            "[1] 3\n",
            "[1] 4\n",
            "[1] 5\n",
            "[1] 6\n",
            "[1] 7\n",
            "[1] 8\n",
            "[1] 9\n",
            "[1] 10\n"
          ]
        }
      ]
    },
    {
      "cell_type": "code",
      "source": [
        "lista <- c(1,2,3,4,5)\n",
        "\n",
        "for (elemento in lista){\n",
        "  print(elemento)\n",
        "}"
      ],
      "metadata": {
        "colab": {
          "base_uri": "https://localhost:8080/"
        },
        "id": "hQFxNh5LJxD-",
        "outputId": "b545d5cf-7b5f-4f84-bd39-48902f096293"
      },
      "execution_count": 19,
      "outputs": [
        {
          "output_type": "stream",
          "name": "stdout",
          "text": [
            "[1] 1\n",
            "[1] 2\n",
            "[1] 3\n",
            "[1] 4\n",
            "[1] 5\n"
          ]
        }
      ]
    },
    {
      "cell_type": "code",
      "source": [
        "dicionario = list(a=1, b=2, c=3)\n",
        "\n",
        "for (chave in names(dicionario)){\n",
        "  print(paste(\"chave: \", chave , \" , Valor: \" , dicionario[[chave]]))\n",
        "}"
      ],
      "metadata": {
        "colab": {
          "base_uri": "https://localhost:8080/"
        },
        "id": "CaBGUdqCK0lD",
        "outputId": "5880050a-793b-4c79-fc20-6268a10ec28a"
      },
      "execution_count": 24,
      "outputs": [
        {
          "output_type": "stream",
          "name": "stdout",
          "text": [
            "[1] \"chave:  a  , Valor:  1\"\n",
            "[1] \"chave:  b  , Valor:  2\"\n",
            "[1] \"chave:  c  , Valor:  3\"\n"
          ]
        }
      ]
    },
    {
      "cell_type": "code",
      "source": [
        "#imprima os numeros de 1 a 10 usando o laço while\n",
        "\n",
        "contador <- 1\n",
        "\n",
        "while (contador != 11){\n",
        "  print(contador)\n",
        "  contador <- contador + 1\n",
        "}"
      ],
      "metadata": {
        "colab": {
          "base_uri": "https://localhost:8080/"
        },
        "id": "fwV2uutjN5MW",
        "outputId": "c0226dda-b693-492c-a216-0040ea90d623"
      },
      "execution_count": 34,
      "outputs": [
        {
          "output_type": "stream",
          "name": "stdout",
          "text": [
            "[1] 1\n",
            "[1] 2\n",
            "[1] 3\n",
            "[1] 4\n",
            "[1] 5\n",
            "[1] 6\n",
            "[1] 7\n",
            "[1] 8\n",
            "[1] 9\n",
            "[1] 10\n"
          ]
        }
      ]
    },
    {
      "cell_type": "code",
      "source": [],
      "metadata": {
        "colab": {
          "base_uri": "https://localhost:8080/",
          "height": 159
        },
        "id": "gl33E0-_Sya2",
        "outputId": "9782112a-0a22-49cf-e6a4-d5f76eccc6b3"
      },
      "execution_count": 41,
      "outputs": [
        {
          "output_type": "stream",
          "name": "stderr",
          "text": [
            "Warning message in print.default(\"posição:\", x, \", valor: \", i[[x]]):\n",
            "“NAs introduced by coercion”\n"
          ]
        },
        {
          "output_type": "error",
          "ename": "ERROR",
          "evalue": "Error in print.default(\"posição:\", x, \", valor: \", i[[x]]): invalid printing digits -2147483648\n",
          "traceback": [
            "Error in print.default(\"posição:\", x, \", valor: \", i[[x]]): invalid printing digits -2147483648\nTraceback:\n",
            "1. print(\"posição:\", x, \", valor: \", i[[x]])",
            "2. print.default(\"posição:\", x, \", valor: \", i[[x]])"
          ]
        }
      ]
    }
  ]
}