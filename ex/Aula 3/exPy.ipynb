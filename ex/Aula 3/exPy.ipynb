{
  "nbformat": 4,
  "nbformat_minor": 0,
  "metadata": {
    "colab": {
      "provenance": []
    },
    "kernelspec": {
      "name": "python3",
      "display_name": "Python 3"
    },
    "language_info": {
      "name": "python"
    }
  },
  "cells": [
    {
      "cell_type": "code",
      "execution_count": null,
      "metadata": {
        "colab": {
          "base_uri": "https://localhost:8080/"
        },
        "id": "PD3EhZWW0Gqz",
        "outputId": "adbdfe6a-602c-4fbb-874c-22eeed226a51"
      },
      "outputs": [
        {
          "output_type": "stream",
          "name": "stdout",
          "text": [
            "{'nome': 'ana', 'idade': 25}\n"
          ]
        }
      ],
      "source": [
        "#remova a chave \"cidade \" do diconario {\"nome\": \"ana\",\"idade\": 25, \"cidade\":\"são paulo\"}\n",
        "dicionario = {\"nome\": \"ana\",\"idade\": 25, \"cidade\":\"são paulo\"}\n",
        "del dicionario[\"cidade\"]\n",
        "print(dicionario)"
      ]
    },
    {
      "cell_type": "code",
      "source": [
        "#crie um dicionario aninhado para armazenar informações de varias pessoa, onde cada pessoa rem um nome, idade e cidade\n",
        "dicionario = {\"nome\": \"ana\",\"idade\": 25, \"cidade\":\"são paulo\"}, {\"nome\": \"joão\",\"idade\": 30, \"cidade\":\"jundiai\"}, {\"nome\": \"juliano\",\"idade\": 19, \"cidade\":\"itupeva\"}\n",
        "print(dicionario)"
      ],
      "metadata": {
        "colab": {
          "base_uri": "https://localhost:8080/"
        },
        "id": "im8i3m9E01Tg",
        "outputId": "c494622e-3e18-4ae2-848f-c0ec77fb4014"
      },
      "execution_count": null,
      "outputs": [
        {
          "output_type": "stream",
          "name": "stdout",
          "text": [
            "({'nome': 'ana', 'idade': 25, 'cidade': 'são paulo'}, {'nome': 'joão', 'idade': 30, 'cidade': 'jundiai'}, {'nome': 'juliano', 'idade': 19, 'cidade': 'itupeva'})\n"
          ]
        }
      ]
    },
    {
      "cell_type": "code",
      "source": [
        "#percorra um diconario aninhado e imprima as informações de cada pessoa no formato {\"nome\": \"ana\",\"idade\": 25, \"cidade\":\"são paulo\"}\n",
        "\n",
        "dicionario = {\n",
        "    \"pessoa1\": {\"nome\": \"ana\",\"idade\": 25, \"cidade\":\"são paulo\"},\n",
        "    \"pessoa2\": {\"nome\": \"joão\",\"idade\": 30, \"cidade\":\"jundiai\"},\n",
        "    \"pessoa3\": {\"nome\": \"juliano\",\"idade\": 19, \"cidade\":\"itupeva\"}\n",
        "}\n",
        "for pessoa, info in dicionario.items():\n",
        "    print(f\"{pessoa}: {info['nome']}, {info['idade']}, {info['cidade']}\")"
      ],
      "metadata": {
        "colab": {
          "base_uri": "https://localhost:8080/"
        },
        "id": "xalEy5fj5Zy5",
        "outputId": "491db6a7-a9d3-4063-cde2-c81bb2f931c8"
      },
      "execution_count": null,
      "outputs": [
        {
          "output_type": "stream",
          "name": "stdout",
          "text": [
            "pessoa1: ana, 25, são paulo\n",
            "pessoa2: joão, 30, jundiai\n",
            "pessoa3: juliano, 19, itupeva\n"
          ]
        }
      ]
    },
    {
      "cell_type": "code",
      "source": [
        "#operadores em Py\n",
        "\n",
        "#aritimetica\n",
        "#some dois numeros 10 e 20\n",
        "\n",
        "soma = 10 +20\n",
        "print(soma)"
      ],
      "metadata": {
        "colab": {
          "base_uri": "https://localhost:8080/"
        },
        "id": "vj7LxIzRB_Iq",
        "outputId": "c0a30b86-495f-4f62-c297-09371249ec39"
      },
      "execution_count": 13,
      "outputs": [
        {
          "output_type": "stream",
          "name": "stdout",
          "text": [
            "30\n"
          ]
        }
      ]
    },
    {
      "cell_type": "code",
      "source": [
        "#subtraia 15 de 10\n",
        "\n",
        "sub = 15-30\n",
        "print(soma)"
      ],
      "metadata": {
        "colab": {
          "base_uri": "https://localhost:8080/"
        },
        "id": "NUNdze5YDxNS",
        "outputId": "519f00e8-9507-42df-84c2-59d4574fb0c3"
      },
      "execution_count": 15,
      "outputs": [
        {
          "output_type": "stream",
          "name": "stdout",
          "text": [
            "-15\n"
          ]
        }
      ]
    },
    {
      "cell_type": "code",
      "source": [
        "#multiplique 6 po 7\n",
        "\n",
        "mult = 6 * 7\n",
        "print(mult)"
      ],
      "metadata": {
        "id": "Kq4_bBuIEEuM"
      },
      "execution_count": null,
      "outputs": []
    },
    {
      "cell_type": "code",
      "source": [
        "#divida 81 por 9\n",
        "\n",
        "div = 81/9\n",
        "print(div)"
      ],
      "metadata": {
        "id": "bn-CxuGYEY0I"
      },
      "execution_count": null,
      "outputs": []
    },
    {
      "cell_type": "code",
      "source": [
        "#calcule o exponencial de 2 elevado a 10\n",
        "\n",
        "exp = 2**10\n",
        "print(exp)\n"
      ],
      "metadata": {
        "id": "yyVmYv-zF7k2"
      },
      "execution_count": null,
      "outputs": []
    },
    {
      "cell_type": "code",
      "source": [
        "#calcule o resto da divisão de 29 por 5\n",
        "\n",
        "resto = 29%5\n",
        "print(resto)"
      ],
      "metadata": {
        "colab": {
          "base_uri": "https://localhost:8080/"
        },
        "id": "3xari0JgHCYG",
        "outputId": "0d6897f0-ad3e-4a8a-b77b-e4ce2ebf0f60"
      },
      "execution_count": 16,
      "outputs": [
        {
          "output_type": "stream",
          "name": "stdout",
          "text": [
            "4\n"
          ]
        }
      ]
    },
    {
      "cell_type": "code",
      "source": [
        "# verifique se o nuemro 8 é maior que 5 e imprima o resultado\n",
        "\n",
        "resultado = 8 > 5\n",
        "print(resultado)"
      ],
      "metadata": {
        "colab": {
          "base_uri": "https://localhost:8080/"
        },
        "id": "8yLB5JVoHy4p",
        "outputId": "a0ed28de-d885-4ba0-aae0-31a6681abbb4"
      },
      "execution_count": 17,
      "outputs": [
        {
          "output_type": "stream",
          "name": "stdout",
          "text": [
            "True\n"
          ]
        }
      ]
    },
    {
      "cell_type": "code",
      "source": [
        "#verifique se o nuemro 3 é menor ou igual a 10 e imprima o resultado\n",
        "\n",
        "resultado = 3 <= 10\n",
        "print(resultado)"
      ],
      "metadata": {
        "id": "IOERylgAIEfm"
      },
      "execution_count": null,
      "outputs": []
    },
    {
      "cell_type": "code",
      "source": [
        "#verifique se 7 é meior que 5 e menor que 10\n",
        "\n",
        "resultado = (7 > 5) and (7 < 10)\n",
        "print(resultado)"
      ],
      "metadata": {
        "colab": {
          "base_uri": "https://localhost:8080/"
        },
        "id": "Y1kBr47gIsY4",
        "outputId": "7ff8369d-3691-4884-db2f-5c936031db56"
      },
      "execution_count": 18,
      "outputs": [
        {
          "output_type": "stream",
          "name": "stdout",
          "text": [
            "True\n"
          ]
        }
      ]
    },
    {
      "cell_type": "code",
      "source": [
        "#verifique se o nuemro 12 é par e se esta entre 10 e 15\n",
        "n = 12\n",
        "resultado = (n % 2 == 0) and (10 < n < 15)\n",
        "print(resultado)"
      ],
      "metadata": {
        "colab": {
          "base_uri": "https://localhost:8080/"
        },
        "id": "EpQF9uqlJuAJ",
        "outputId": "68f176b3-0f8c-4cd1-c0f8-5bffa6f6652f"
      },
      "execution_count": 23,
      "outputs": [
        {
          "output_type": "stream",
          "name": "stdout",
          "text": [
            "True\n"
          ]
        }
      ]
    },
    {
      "cell_type": "code",
      "source": [
        "#verifique se um nuemro é multiplo de 3 ou 5 e se está entre 20 e 30. imprama o resultado\n",
        "\n",
        "n = 11\n",
        "resultado = ((n % 3 == 0 or n % 5 == 0) and (20 < n < 30))\n",
        "print(resultado)"
      ],
      "metadata": {
        "colab": {
          "base_uri": "https://localhost:8080/"
        },
        "id": "LCNhV_s2VtwH",
        "outputId": "f6433335-f059-4db3-adf5-1cfe12dbb809"
      },
      "execution_count": 28,
      "outputs": [
        {
          "output_type": "stream",
          "name": "stdout",
          "text": [
            "False\n"
          ]
        }
      ]
    },
    {
      "cell_type": "code",
      "source": [
        "#crie uma função que verifique se uma pessoa é elegivel para um premio com base nas seguintes condições: devera ter mais que 18 anos e deve ser memvro ativo ou deve ter mais de 60 anos\n",
        "\n",
        "def verificar_elegibilidade(idade, ativo):\n",
        "    if (idade >= 18 and ativo) or (idade > 60):\n",
        "        return True\n",
        "    else:\n",
        "        return False\n",
        "\n",
        "print(verificar_elegibilidade(18, True))\n",
        "print(verificar_elegibilidade(65, False))\n",
        "print(verificar_elegibilidade(30, False))\n"
      ],
      "metadata": {
        "colab": {
          "base_uri": "https://localhost:8080/"
        },
        "id": "AlTGjpsaYa09",
        "outputId": "db405f5f-5316-4690-9c0b-26c11cb51843"
      },
      "execution_count": 31,
      "outputs": [
        {
          "output_type": "stream",
          "name": "stdout",
          "text": [
            "True\n",
            "True\n",
            "False\n"
          ]
        }
      ]
    }
  ]
}