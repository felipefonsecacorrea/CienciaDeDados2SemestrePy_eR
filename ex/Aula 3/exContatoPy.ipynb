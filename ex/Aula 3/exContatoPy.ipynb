{
  "nbformat": 4,
  "nbformat_minor": 0,
  "metadata": {
    "colab": {
      "provenance": []
    },
    "kernelspec": {
      "name": "python3",
      "display_name": "Python 3"
    },
    "language_info": {
      "name": "python"
    }
  },
  "cells": [
    {
      "cell_type": "code",
      "execution_count": 18,
      "metadata": {
        "colab": {
          "base_uri": "https://localhost:8080/"
        },
        "id": "UfN6QJmIcLGu",
        "outputId": "f7d18093-3747-463c-b28e-ba7cd72cc523"
      },
      "outputs": [
        {
          "output_type": "stream",
          "name": "stdout",
          "text": [
            "{'contato1': {'nome': 'felipe', 'celular': '916685029', 'email': 'felipe@email.com'}, 'contato2': {'nome': 'ana', 'celular': '989328222', 'email': 'ana@email.com'}, 'contato3': {'nome': 'aline', 'celular': '40028922', 'email': 'calote@email.com'}}\n",
            "\n",
            "{'nome': 'vitor', 'celular': '40028922', 'email': 'lindo@email.com'}\n",
            "\n",
            "{'contato1': {'nome': 'felipe', 'celular': '916685029', 'email': 'felipe@email.com'}, 'contato2': {'nome': 'ana', 'celular': '989328222', 'email': 'ana@email.com'}, 'pessoa4': {'nome': 'vitor', 'celular': '40028922', 'email': 'lindo@email.com'}}\n",
            "\n",
            "contato1: felipe, 916685029, felipe@email.com\n",
            "contato2: ana, 989328222, ana@email.com\n",
            "pessoa4: vitor, 40028922, lindo@email.com\n"
          ]
        }
      ],
      "source": [
        "#Crie um sistema simples de gerenciamento de contatos que permita adicionar novos contatos,\n",
        "#remover contatos e listar todos os contatos com seus detalhes.\n",
        "#O sistema deve utilizar variáveis e operações diretamente, sem a utilização de funções.\n",
        "import pandas as pd\n",
        "\n",
        "contatos = {\n",
        "    \"contato1\": {\"nome\": \"felipe\", \"celular\": \"916685029\",\"email\": \"felipe@email.com\"},\n",
        "    \"contato2\": {\"nome\": \"ana\",\"celular\": \"989328222\",\"email\": \"ana@email.com\"},\n",
        "    \"contato3\": {\"nome\": \"aline\",\"celular\":\"40028922\",\"email\": \"calote@email.com\"},\n",
        "    }\n",
        "print(contatos)\n",
        "\n",
        "print(\"\")\n",
        "\n",
        "#adicione mais uma pessoa no contatos\n",
        "contatos[\"pessoa4\"] = {\"nome\": \"vitor\",\"celular\":\"40028922\",\"email\": \"lindo@email.com\"}\n",
        "\n",
        "print(contatos[\"pessoa4\"])\n",
        "\n",
        "print(\"\")\n",
        "\n",
        "#remova um contato\n",
        "del contatos[\"contato3\"]\n",
        "print(contatos)\n",
        "\n",
        "print(\"\")\n",
        "\n",
        "for pessoa, info in contatos.items():\n",
        "    print(f\"{pessoa}: {info['nome']}, {info['celular']}, {info['email']}\")"
      ]
    }
  ]
}