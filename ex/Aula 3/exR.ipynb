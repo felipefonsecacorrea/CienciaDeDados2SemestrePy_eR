{
  "nbformat": 4,
  "nbformat_minor": 0,
  "metadata": {
    "colab": {
      "provenance": []
    },
    "kernelspec": {
      "name": "ir",
      "display_name": "R"
    },
    "language_info": {
      "name": "R"
    }
  },
  "cells": [
    {
      "cell_type": "code",
      "execution_count": 1,
      "metadata": {
        "colab": {
          "base_uri": "https://localhost:8080/"
        },
        "id": "3Ylq2bWP0Ho4",
        "outputId": "3649e170-3cdb-429f-c4a2-eedcebc1be9f"
      },
      "outputs": [
        {
          "output_type": "stream",
          "name": "stdout",
          "text": [
            "$nome\n",
            "[1] \"Ana\"\n",
            "\n",
            "$idade\n",
            "[1] 25\n",
            "\n"
          ]
        }
      ],
      "source": [
        "#Exercício Médio: Remova a chave-valor \"cidade\" do dicionário\n",
        "#{\"nome\":\"Ana\",\"idade\":\"25\",\"cidade\":\"São Paulo\"}\n",
        "dicionario <- list(nome=\"Ana\", idade=25, cidade=\"São Paulo\")\n",
        "dicionario$cidade <- NULL\n",
        "print(dicionario)"
      ]
    },
    {
      "cell_type": "code",
      "source": [
        "#crie um dicionario aninhado para armazenar informações de varias pessoa, onde cada pessoa rem um nome, idade e cidade\n",
        "\n",
        "dicionario <- list(c(nome= \"ana\", idade= 25, cidade=\"são paulo\"), c(nome= \"joão\", idade= 19, cidade=\"jundiai\"), c(nome= \"bryan\", idade= 30, cidade=\"Itupeva\"))\n",
        "print(dicionario)"
      ],
      "metadata": {
        "colab": {
          "base_uri": "https://localhost:8080/"
        },
        "id": "ZYlbFcgq2kh2",
        "outputId": "2d4fd11a-1cbf-4476-933c-2a5d30931e5d"
      },
      "execution_count": 10,
      "outputs": [
        {
          "output_type": "stream",
          "name": "stdout",
          "text": [
            "[[1]]\n",
            "       nome       idade      cidade \n",
            "      \"ana\"        \"25\" \"são paulo\" \n",
            "\n",
            "[[2]]\n",
            "     nome     idade    cidade \n",
            "   \"joão\"      \"19\" \"jundiai\" \n",
            "\n",
            "[[3]]\n",
            "     nome     idade    cidade \n",
            "  \"bryan\"      \"30\" \"Itupeva\" \n",
            "\n"
          ]
        }
      ]
    },
    {
      "cell_type": "code",
      "source": [
        "#crie um dicionario aninhado para armazenar informações de varias pessoa, onde cada pessoa rem um nome, idade e cidade\n",
        "\n",
        "\n",
        "dicionario <- list(\n",
        "  \"pessoa1\"<-list(nome=\"Ana\", idade=25, cidade=\"Sao Paulo\"),\n",
        "  \"pessoa2\"<-list(nome=\"João\", idade=25, cidade=\"Sao Paulo\"),\n",
        "  \"pessoa3\"<-list(nome=\"Bea\", idade=25, cidade=\"Sao Paulo\"),\n",
        "  \"pessoa4\"<-list(nome=\"Fe\", idade=25, cidade=\"Sao Paulo\")\n",
        ")\n",
        "\n",
        "print(dicionario)"
      ],
      "metadata": {
        "colab": {
          "base_uri": "https://localhost:8080/"
        },
        "id": "SEU3VOOO5G4t",
        "outputId": "d557f6b6-6346-4484-ea85-36246092a322"
      },
      "execution_count": 15,
      "outputs": [
        {
          "output_type": "stream",
          "name": "stdout",
          "text": [
            "[[1]]\n",
            "[[1]]$nome\n",
            "[1] \"Ana\"\n",
            "\n",
            "[[1]]$idade\n",
            "[1] 25\n",
            "\n",
            "[[1]]$cidade\n",
            "[1] \"Sao Paulo\"\n",
            "\n",
            "\n",
            "[[2]]\n",
            "[[2]]$nome\n",
            "[1] \"João\"\n",
            "\n",
            "[[2]]$idade\n",
            "[1] 25\n",
            "\n",
            "[[2]]$cidade\n",
            "[1] \"Sao Paulo\"\n",
            "\n",
            "\n",
            "[[3]]\n",
            "[[3]]$nome\n",
            "[1] \"Bea\"\n",
            "\n",
            "[[3]]$idade\n",
            "[1] 25\n",
            "\n",
            "[[3]]$cidade\n",
            "[1] \"Sao Paulo\"\n",
            "\n",
            "\n",
            "[[4]]\n",
            "[[4]]$nome\n",
            "[1] \"Fe\"\n",
            "\n",
            "[[4]]$idade\n",
            "[1] 25\n",
            "\n",
            "[[4]]$cidade\n",
            "[1] \"Sao Paulo\"\n",
            "\n",
            "\n"
          ]
        }
      ]
    },
    {
      "cell_type": "code",
      "source": [
        "#percorra um diconario aninhado e imprima as informações de cada pessoa no formato {\"nome\": \"ana\",\"idade\": 25, \"cidade\":\"são paulo\"}\n",
        "\n",
        "dicionario <- list(\n",
        "  \"pessoa1\"<-list(nome=\"Ana\", idade=25, cidade=\"Sao Paulo\"),\n",
        "  \"pessoa2\"<-list(nome=\"João\", idade=25, cidade=\"Sao Paulo\"),\n",
        "  \"pessoa3\"<-list(nome=\"Bea\", idade=25, cidade=\"Sao Paulo\"),\n",
        "  \"pessoa4\"<-list(nome=\"Fe\", idade=25, cidade=\"Sao Paulo\")\n",
        ")\n",
        "\n",
        "for (pessoa in dicionario){\n",
        "  print(paste(\"nome:\", pessoa$nome, \"idade:\", pessoa$idade, \"cidade:\", pessoa$cidade))\n",
        "}"
      ],
      "metadata": {
        "colab": {
          "base_uri": "https://localhost:8080/"
        },
        "id": "OQFrCfz-5Qol",
        "outputId": "ac19a9c6-5a08-4848-e20e-7950fdc7cae0"
      },
      "execution_count": 16,
      "outputs": [
        {
          "output_type": "stream",
          "name": "stdout",
          "text": [
            "[1] \"nome: Ana idade: 25 cidade: Sao Paulo\"\n",
            "[1] \"nome: João idade: 25 cidade: Sao Paulo\"\n",
            "[1] \"nome: Bea idade: 25 cidade: Sao Paulo\"\n",
            "[1] \"nome: Fe idade: 25 cidade: Sao Paulo\"\n"
          ]
        }
      ]
    },
    {
      "cell_type": "code",
      "source": [
        "#operadores em R\n",
        "\n",
        "#aritimetica\n",
        "#some dois numeros 10 e 20\n",
        "\n",
        "soma <- 10 +20\n",
        "print(soma)"
      ],
      "metadata": {
        "colab": {
          "base_uri": "https://localhost:8080/"
        },
        "id": "VVaGt13HDBHZ",
        "outputId": "def46d1c-7324-4906-ed2d-04e815de9801"
      },
      "execution_count": 17,
      "outputs": [
        {
          "output_type": "stream",
          "name": "stdout",
          "text": [
            "[1] 30\n"
          ]
        }
      ]
    },
    {
      "cell_type": "code",
      "source": [
        "#subtraia 15 de 10\n",
        "\n",
        "sub <- 15-30\n",
        "print(soma)"
      ],
      "metadata": {
        "colab": {
          "base_uri": "https://localhost:8080/"
        },
        "id": "-Uzn64N1D6uZ",
        "outputId": "3a4b1ff9-9da6-4c17-bcc9-a83774e3f391"
      },
      "execution_count": 18,
      "outputs": [
        {
          "output_type": "stream",
          "name": "stdout",
          "text": [
            "[1] 30\n"
          ]
        }
      ]
    },
    {
      "cell_type": "code",
      "source": [
        "#multiplique 6 po 7\n",
        "\n",
        "mult <- 6 * 7\n",
        "print(mult)"
      ],
      "metadata": {
        "colab": {
          "base_uri": "https://localhost:8080/"
        },
        "id": "5sgTUFyBEVH3",
        "outputId": "e1fb7327-c36f-416a-ceb0-99377ca184f4"
      },
      "execution_count": 19,
      "outputs": [
        {
          "output_type": "stream",
          "name": "stdout",
          "text": [
            "[1] 42\n"
          ]
        }
      ]
    },
    {
      "cell_type": "code",
      "source": [
        "#divida 81 por 9\n",
        "\n",
        "div <- 81/9\n",
        "print(div)"
      ],
      "metadata": {
        "colab": {
          "base_uri": "https://localhost:8080/"
        },
        "id": "yscOpIniF4CE",
        "outputId": "3e1e87bd-d138-48cf-e4ea-ec897745a6f2"
      },
      "execution_count": 20,
      "outputs": [
        {
          "output_type": "stream",
          "name": "stdout",
          "text": [
            "[1] 9\n"
          ]
        }
      ]
    },
    {
      "cell_type": "code",
      "source": [
        "#calcule o exponencial de 2 elevado a 10\n",
        "\n",
        "exp <- 2^10\n",
        "print(exp)"
      ],
      "metadata": {
        "colab": {
          "base_uri": "https://localhost:8080/"
        },
        "id": "FopvRFhSGFA3",
        "outputId": "8c36f0d1-5cb6-47db-b976-25620418a99e"
      },
      "execution_count": 21,
      "outputs": [
        {
          "output_type": "stream",
          "name": "stdout",
          "text": [
            "[1] 1024\n"
          ]
        }
      ]
    },
    {
      "cell_type": "code",
      "source": [
        "#calcule o resto da divisão de 29 por 5\n",
        "\n",
        "resto <- 29%%5\n",
        "print(resto)"
      ],
      "metadata": {
        "colab": {
          "base_uri": "https://localhost:8080/"
        },
        "id": "6tnJ5V-FHKeW",
        "outputId": "e4d5f3de-849c-45ef-a4b0-2cd2e539b2aa"
      },
      "execution_count": 23,
      "outputs": [
        {
          "output_type": "stream",
          "name": "stdout",
          "text": [
            "[1] 4\n"
          ]
        }
      ]
    },
    {
      "cell_type": "code",
      "source": [
        "# verifique se o nuemro 8 é maior que 5 e imprima o resultado\n",
        "\n",
        "resultado <- 8 > 5\n",
        "print(resultado)"
      ],
      "metadata": {
        "colab": {
          "base_uri": "https://localhost:8080/"
        },
        "id": "VeUa2Gs6H_oA",
        "outputId": "bbe922a6-57df-4aea-c602-f3ae2074dcc5"
      },
      "execution_count": 24,
      "outputs": [
        {
          "output_type": "stream",
          "name": "stdout",
          "text": [
            "[1] TRUE\n"
          ]
        }
      ]
    },
    {
      "cell_type": "code",
      "source": [
        "#verifique se o nuemro 3 é menor ou igual a 10 e imprima o resultado\n",
        "\n",
        "resultado = 3 <= 10\n",
        "print(resultado)"
      ],
      "metadata": {
        "colab": {
          "base_uri": "https://localhost:8080/"
        },
        "id": "j29NyfwcIksJ",
        "outputId": "0a0aeee8-0ced-4d6e-efb0-fcc93d045ae4"
      },
      "execution_count": 25,
      "outputs": [
        {
          "output_type": "stream",
          "name": "stdout",
          "text": [
            "[1] TRUE\n"
          ]
        }
      ]
    },
    {
      "cell_type": "code",
      "source": [
        "#verifique se 7 é meior que 5 e menor que 10\n",
        "\n",
        "resultado <- (7 > 5) & (7 < 10)\n",
        "print(resultado)"
      ],
      "metadata": {
        "colab": {
          "base_uri": "https://localhost:8080/"
        },
        "id": "gxb8SvOIJRDW",
        "outputId": "2d5921ae-7554-4b7b-c1df-1ff9ef88eda7"
      },
      "execution_count": 27,
      "outputs": [
        {
          "output_type": "stream",
          "name": "stdout",
          "text": [
            "[1] TRUE\n"
          ]
        }
      ]
    },
    {
      "cell_type": "code",
      "source": [
        "#verifique se o nuemro 12 é par e se esta entre 10 e 15\n",
        "n = 12\n",
        "resultado <- (n %% 2 == 0) & ((10 < n) & (n < 15))\n",
        "print(resultado)"
      ],
      "metadata": {
        "colab": {
          "base_uri": "https://localhost:8080/"
        },
        "id": "SL0doRWWKGWY",
        "outputId": "4e246821-fd7b-4860-ff0d-58b50ed09e8c"
      },
      "execution_count": 33,
      "outputs": [
        {
          "output_type": "stream",
          "name": "stdout",
          "text": [
            "[1] TRUE\n"
          ]
        }
      ]
    },
    {
      "cell_type": "code",
      "source": [
        "#verifique se um nuemro é multiplo de 3 ou 5 e se está entre 20 e 30. imprama o resultado\n",
        "\n",
        "n <- 11\n",
        "resultado = ((n %% 3 == 0 | n %% 5 == 0) & (n > 20 & n < 30))\n",
        "print(resultado)"
      ],
      "metadata": {
        "colab": {
          "base_uri": "https://localhost:8080/"
        },
        "id": "rGM5e2l7WDKE",
        "outputId": "ce2ad433-61b1-48fb-c953-aacc3cad00ce"
      },
      "execution_count": 37,
      "outputs": [
        {
          "output_type": "stream",
          "name": "stdout",
          "text": [
            "[1] FALSE\n"
          ]
        }
      ]
    },
    {
      "cell_type": "code",
      "source": [
        "#crie uma função que verifique se uma pessoa é elegivel para um premio com base nas seguintes condições: devera ter mais que 18 anos e deve ser memvro ativo ou deve ter mais de 60 anos\n",
        "\n",
        "verificar_elegibilidade <- function(idade, ativo){\n",
        "  return ((idade >= 18 & ativo) | (idade > 60))\n",
        "}\n",
        "\n",
        "print(verificar_elegibilidade(18, TRUE))\n",
        "print(verificar_elegibilidade(65, FALSE))\n",
        "print(verificar_elegibilidade(30, FALSE))"
      ],
      "metadata": {
        "colab": {
          "base_uri": "https://localhost:8080/"
        },
        "id": "gykHyJdKZZ23",
        "outputId": "ff30f30a-25e6-4235-d2d2-119f0dd2a1cb"
      },
      "execution_count": 40,
      "outputs": [
        {
          "output_type": "stream",
          "name": "stdout",
          "text": [
            "[1] TRUE\n",
            "[1] TRUE\n",
            "[1] FALSE\n"
          ]
        }
      ]
    }
  ]
}