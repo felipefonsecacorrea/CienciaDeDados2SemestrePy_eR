{
  "nbformat": 4,
  "nbformat_minor": 0,
  "metadata": {
    "colab": {
      "provenance": []
    },
    "kernelspec": {
      "name": "ir",
      "display_name": "R"
    },
    "language_info": {
      "name": "R"
    }
  },
  "cells": [
    {
      "cell_type": "code",
      "execution_count": null,
      "metadata": {
        "id": "qu1OAxV7syUv"
      },
      "outputs": [],
      "source": [
        "#Fatores em R\n",
        "#Crie um vetor de categorias com cores vermelho, azul e verde\n",
        "cores <- factor(c('vermelho', 'azul', 'verde'))\n",
        "print(cores)\n",
        "\n",
        "#Crie um vetor de fatores para os dias da semana e imprima-os\n",
        "dias <- factor(c('segunda', 'terca', 'quarta', 'quinta', 'sexta'))\n",
        "print(dias)"
      ]
    },
    {
      "cell_type": "code",
      "source": [
        "#Crie um vetor de fatores com as categorias baixo, medio e alto e ordene-os.\n",
        "niveis <- factor(c('baixo', 'alto', 'medio'), levels = c('baixo', 'medio', 'alto'), ordered = TRUE)\n",
        "print(niveis)"
      ],
      "metadata": {
        "colab": {
          "base_uri": "https://localhost:8080/"
        },
        "id": "IBtLdj0Xv0At",
        "outputId": "c105c925-ab88-423e-ebad-12037dbc5311"
      },
      "execution_count": 5,
      "outputs": [
        {
          "output_type": "stream",
          "name": "stdout",
          "text": [
            "[1] baixo alto  medio\n",
            "Levels: baixo < medio < alto\n"
          ]
        }
      ]
    },
    {
      "cell_type": "code",
      "source": [
        "#converta um vetor de fatores em vetores numericos\n",
        "categorias <- factor(c('baixo', 'alto', 'medio'), levels = c('baixo', 'medio', 'alto'), ordered = TRUE)\n",
        "numeros <- as.numeric(categorias)\n",
        "print(numeros)"
      ],
      "metadata": {
        "colab": {
          "base_uri": "https://localhost:8080/"
        },
        "id": "WPLqjTe5wpYo",
        "outputId": "d284b275-405d-47ca-ebe4-55ed94604380"
      },
      "execution_count": 4,
      "outputs": [
        {
          "output_type": "stream",
          "name": "stdout",
          "text": [
            "[1] 1 3 2\n"
          ]
        }
      ]
    },
    {
      "cell_type": "code",
      "source": [
        " #crie um vetor de fatores com as categorias pequno, medio e grande, e substitua pequeno por extra pequeno\n",
        "tamanhos <- factor(c('pequeno', 'medio', 'grande'), levels = c('pequeno', 'medio', 'grande'), ordered = TRUE)\n",
        "levels(tamanhos)[levels(tamanhos) == 'pequeno'] <- 'extra pequeno'\n",
        "print(tamanhos)"
      ],
      "metadata": {
        "colab": {
          "base_uri": "https://localhost:8080/"
        },
        "id": "lT-AI5SB0-Gy",
        "outputId": "9b3c1e7d-dd2c-40e3-f299-c18a6d766643"
      },
      "execution_count": 14,
      "outputs": [
        {
          "output_type": "stream",
          "name": "stdout",
          "text": [
            "[1] extra pequeno medio         grande       \n",
            "Levels: extra pequeno < medio < grande\n"
          ]
        }
      ]
    },
    {
      "cell_type": "code",
      "source": [
        "#criei um vetor de fatorees com 100 elementos aleatorios enttre \"baixo\", \"medio\" e \"alto\", calcule a frequencia de cada categoria\n",
        "set.seed(123)\n",
        "categorias <- c(\"baixo\", \"medio\", \"alto\")\n",
        "vetor <- sample(categorias, 100, replace =TRUE)\n",
        "fatores <- factor(vetor, levels = categorias, ordered = TRUE)\n",
        "frequencia <- table(fatores)\n",
        "print(frequencia)"
      ],
      "metadata": {
        "colab": {
          "base_uri": "https://localhost:8080/"
        },
        "id": "7-Bi5qqv3y6p",
        "outputId": "d638a72d-0686-4d27-d0dc-74399bf001f2"
      },
      "execution_count": 15,
      "outputs": [
        {
          "output_type": "stream",
          "name": "stdout",
          "text": [
            "fatores\n",
            "baixo medio  alto \n",
            "   33    32    35 \n"
          ]
        }
      ]
    },
    {
      "cell_type": "code",
      "source": [
        "#crie uma lista contendo numeros de 1 a 5\n",
        "lista <- list(1:5)\n",
        "print(lista)"
      ],
      "metadata": {
        "colab": {
          "base_uri": "https://localhost:8080/"
        },
        "id": "UDqgE1ac8rmz",
        "outputId": "30b41cb3-9aaa-402f-f35a-374e68b67ca8"
      },
      "execution_count": 16,
      "outputs": [
        {
          "output_type": "stream",
          "name": "stdout",
          "text": [
            "[[1]]\n",
            "[1] 1 2 3 4 5\n",
            "\n"
          ]
        }
      ]
    },
    {
      "cell_type": "code",
      "source": [
        "#crie uma lista contendo numeros de 1 a 5 e adicone 6\n",
        "lista <- list(1,2,3,4,5)\n",
        "lista[[6]] <- 6\n",
        "print(lista)"
      ],
      "metadata": {
        "colab": {
          "base_uri": "https://localhost:8080/"
        },
        "id": "xnuIKD8z9fhL",
        "outputId": "cdb0cdd7-872c-47c4-88e4-4d3d009ee253"
      },
      "execution_count": 18,
      "outputs": [
        {
          "output_type": "stream",
          "name": "stdout",
          "text": [
            "[[1]]\n",
            "[1] 1\n",
            "\n",
            "[[2]]\n",
            "[1] 2\n",
            "\n",
            "[[3]]\n",
            "[1] 3\n",
            "\n",
            "[[4]]\n",
            "[1] 4\n",
            "\n",
            "[[5]]\n",
            "[1] 5\n",
            "\n",
            "[[6]]\n",
            "[1] 6\n",
            "\n"
          ]
        }
      ]
    },
    {
      "cell_type": "code",
      "source": [
        "#remova o terceiro elemento da lista\n",
        "lista <- list(1,2,3,4,5)\n",
        "lista <- lista[-3]\n",
        "print(lista)"
      ],
      "metadata": {
        "id": "4E74h-0q_M5E"
      },
      "execution_count": null,
      "outputs": []
    },
    {
      "cell_type": "code",
      "source": [
        "#inverta a ordem da lista de 1 a 5\n",
        "lista <- list(1,2,3,4,5)\n",
        "lista_invertida <- rev(lista)\n",
        "print(lista_invertida)"
      ],
      "metadata": {
        "colab": {
          "base_uri": "https://localhost:8080/"
        },
        "id": "p1Oka64a__ae",
        "outputId": "1b45cdad-716b-4075-dffa-3bb74c24b664"
      },
      "execution_count": 19,
      "outputs": [
        {
          "output_type": "stream",
          "name": "stdout",
          "text": [
            "[[1]]\n",
            "[1] 5\n",
            "\n",
            "[[2]]\n",
            "[1] 4\n",
            "\n",
            "[[3]]\n",
            "[1] 3\n",
            "\n",
            "[[4]]\n",
            "[1] 2\n",
            "\n",
            "[[5]]\n",
            "[1] 1\n",
            "\n"
          ]
        }
      ]
    },
    {
      "cell_type": "code",
      "source": [
        "#crie uma lista de lista - matriz\n",
        "matriz <- list(c(1,2,3), c(4,5,6), c(7,8,9))\n",
        "matrizSm <- sapply(matriz, sum)\n",
        "print(matrizSm)"
      ],
      "metadata": {
        "colab": {
          "base_uri": "https://localhost:8080/"
        },
        "id": "8mjXK9yFBOms",
        "outputId": "5c8b812b-3c38-4f72-de1c-92df34bbe3b3"
      },
      "execution_count": 21,
      "outputs": [
        {
          "output_type": "stream",
          "name": "stdout",
          "text": [
            "[1]  6 15 24\n"
          ]
        }
      ]
    },
    {
      "cell_type": "code",
      "source": [
        "# crie uma tupla com numeros de 1 a 5\n",
        "\n",
        "tupla <- list(1,2,3,4,5)\n",
        "print(tupla)"
      ],
      "metadata": {
        "id": "DcVqf-IOOdM-"
      },
      "execution_count": null,
      "outputs": []
    },
    {
      "cell_type": "code",
      "source": [
        "# crie uma tupla com numeros de 1 a 5 em imprima o 3\n",
        "\n",
        "tupla <- list(1,2,3,4,5)\n",
        "print(tupla[3])"
      ],
      "metadata": {
        "id": "H35WihtuPKWJ"
      },
      "execution_count": null,
      "outputs": []
    },
    {
      "cell_type": "code",
      "source": [
        "#crie uma tupla com outras treis tuplas interna, cada uma com dois elementos\n",
        "tupla <- list(list(1,2), list(3,4), list(5,6))\n",
        "print(tupla)"
      ],
      "metadata": {
        "colab": {
          "base_uri": "https://localhost:8080/"
        },
        "id": "0lMayhV2P1Vt",
        "outputId": "dae602db-e32f-442c-8647-a0a714f9fa8f"
      },
      "execution_count": 24,
      "outputs": [
        {
          "output_type": "stream",
          "name": "stdout",
          "text": [
            "[[1]]\n",
            "[[1]][[1]]\n",
            "[1] 1\n",
            "\n",
            "[[1]][[2]]\n",
            "[1] 2\n",
            "\n",
            "\n",
            "[[2]]\n",
            "[[2]][[1]]\n",
            "[1] 3\n",
            "\n",
            "[[2]][[2]]\n",
            "[1] 4\n",
            "\n",
            "\n",
            "[[3]]\n",
            "[[3]][[1]]\n",
            "[1] 5\n",
            "\n",
            "[[3]][[2]]\n",
            "[1] 6\n",
            "\n",
            "\n"
          ]
        }
      ]
    },
    {
      "cell_type": "code",
      "source": [
        "#concatene duas tuplas e imprima R\n",
        "tupla1 <- list(1,2,3)\n",
        "tupla2 <- list(4,5,6)\n",
        "tupla3 <- c(tupla1,tupla2)\n",
        "print(tupla3)"
      ],
      "metadata": {
        "colab": {
          "base_uri": "https://localhost:8080/"
        },
        "id": "pK-6AjB9RgGy",
        "outputId": "39ec0679-83ab-4376-f4f3-a0c266c8d8b6"
      },
      "execution_count": 28,
      "outputs": [
        {
          "output_type": "stream",
          "name": "stdout",
          "text": [
            "[[1]]\n",
            "[1] 1\n",
            "\n",
            "[[2]]\n",
            "[1] 2\n",
            "\n",
            "[[3]]\n",
            "[1] 3\n",
            "\n",
            "[[4]]\n",
            "[1] 4\n",
            "\n",
            "[[5]]\n",
            "[1] 5\n",
            "\n",
            "[[6]]\n",
            "[1] 6\n",
            "\n"
          ]
        }
      ]
    },
    {
      "cell_type": "code",
      "source": [
        "#crie uma tupla com os elementos (1,2,3,4,5) e verifique o numero 3 esta na lista\n",
        "tupla <- list(1,2,3,4,5)\n",
        "existe <- 3 %in% lista\n",
        "print(lista)"
      ],
      "metadata": {
        "colab": {
          "base_uri": "https://localhost:8080/"
        },
        "id": "L7xvAlU3Tdo7",
        "outputId": "7275bb2b-c17a-4ff1-f98a-f30ed18472b1"
      },
      "execution_count": 29,
      "outputs": [
        {
          "output_type": "stream",
          "name": "stdout",
          "text": [
            "[[1]]\n",
            "[1] 1\n",
            "\n",
            "[[2]]\n",
            "[1] 2\n",
            "\n",
            "[[3]]\n",
            "[1] 3\n",
            "\n",
            "[[4]]\n",
            "[1] 4\n",
            "\n",
            "[[5]]\n",
            "[1] 5\n",
            "\n"
          ]
        }
      ]
    },
    {
      "cell_type": "code",
      "source": [
        "#crie uma tupla com os elementos (1,2,3,4,5) e verifique o indice 4  na lista\n",
        "tupla <- list(1,2,3,4,5)\n",
        "indice <- which(unlist(lista)==4)\n",
        "print(indice)"
      ],
      "metadata": {
        "colab": {
          "base_uri": "https://localhost:8080/"
        },
        "id": "MyJXAWqVUh2G",
        "outputId": "a81d5d6c-e126-43c8-c6fc-b81509ece414"
      },
      "execution_count": 33,
      "outputs": [
        {
          "output_type": "stream",
          "name": "stdout",
          "text": [
            "[1] 4\n"
          ]
        }
      ]
    },
    {
      "cell_type": "code",
      "source": [
        "#crie um dicionario com as chaves \"nome\", \"idade\" e \"cidade\"\n",
        "dicionario <- list(nome= \"joao\", idade= 30, cidade= \"são paulo\")\n",
        "print(dicionario)\n"
      ],
      "metadata": {
        "colab": {
          "base_uri": "https://localhost:8080/"
        },
        "id": "Pt6tvzqbQicy",
        "outputId": "27da39e2-3bf4-49fa-9ee6-2b595883f94d"
      },
      "execution_count": 40,
      "outputs": [
        {
          "output_type": "stream",
          "name": "stdout",
          "text": [
            "$nome\n",
            "[1] \"joao\"\n",
            "\n",
            "$idade\n",
            "[1] 30\n",
            "\n",
            "$cidade\n",
            "[1] \"são paulo\"\n",
            "\n"
          ]
        }
      ]
    },
    {
      "cell_type": "code",
      "source": [
        "#crie um dicionario com as chaves \"nome\", \"idade\" e \"cidade\" e acesse idade\n",
        "dicionario <- list(nome= \"joao\", idade= 30, cidade= \"são paulo\")\n",
        "print(dicionario[\"idade\"])\n",
        "\n",
        "idade <- dicionario$idade\n",
        "print(idade)"
      ],
      "metadata": {
        "colab": {
          "base_uri": "https://localhost:8080/"
        },
        "id": "qSQvGH-WXQ2u",
        "outputId": "7e6cd6e5-4d52-409b-a163-965cd73dae21"
      },
      "execution_count": 42,
      "outputs": [
        {
          "output_type": "stream",
          "name": "stdout",
          "text": [
            "$idade\n",
            "[1] 30\n",
            "\n",
            "[1] 30\n"
          ]
        }
      ]
    },
    {
      "cell_type": "code",
      "source": [
        "#adicione um par de chave-valor \"profissão\": engenharia ao dicionario = {\"nome\": \"joao\", \"idade\": 30, \"cidade\": \"são paulo\"}\n",
        "\n",
        "dicionario <- list(nome= \"joao\", idade= 30, cidade= \"são paulo\")\n",
        "dicionario$profissao <- \"engenharia\"\n",
        "print(dicionario)"
      ],
      "metadata": {
        "colab": {
          "base_uri": "https://localhost:8080/"
        },
        "id": "NRzzvfCcYzVy",
        "outputId": "18f0c883-d7be-4588-89d9-d56865def066"
      },
      "execution_count": 44,
      "outputs": [
        {
          "output_type": "stream",
          "name": "stdout",
          "text": [
            "$nome\n",
            "[1] \"joao\"\n",
            "\n",
            "$idade\n",
            "[1] 30\n",
            "\n",
            "$cidade\n",
            "[1] \"são paulo\"\n",
            "\n",
            "$profissao\n",
            "[1] \"engenharia\"\n",
            "\n"
          ]
        }
      ]
    }
  ]
}